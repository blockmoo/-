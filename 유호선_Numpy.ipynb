{
  "nbformat": 4,
  "nbformat_minor": 0,
  "metadata": {
    "colab": {
      "name": "유호선 Numpy.ipynb",
      "provenance": [],
      "collapsed_sections": [],
      "authorship_tag": "ABX9TyPivWNUmOHY7sPYtd8R9eZ2",
      "include_colab_link": true
    },
    "kernelspec": {
      "name": "python3",
      "display_name": "Python 3"
    },
    "language_info": {
      "name": "python"
    }
  },
  "cells": [
    {
      "cell_type": "markdown",
      "metadata": {
        "id": "view-in-github",
        "colab_type": "text"
      },
      "source": [
        "<a href=\"https://colab.research.google.com/github/blockmoo/python_tutoring/blob/main/%EC%9C%A0%ED%98%B8%EC%84%A0_Numpy.ipynb\" target=\"_parent\"><img src=\"https://colab.research.google.com/assets/colab-badge.svg\" alt=\"Open In Colab\"/></a>"
      ]
    },
    {
      "cell_type": "code",
      "metadata": {
        "id": "8tvaXYeHl83D"
      },
      "source": [
        "import numpy as np\n",
        "import pandas as pd"
      ],
      "execution_count": null,
      "outputs": []
    },
    {
      "cell_type": "markdown",
      "metadata": {
        "id": "q18xEFhZnTiW"
      },
      "source": [
        "# 3.1.1 Create arrays"
      ]
    },
    {
      "cell_type": "code",
      "metadata": {
        "colab": {
          "base_uri": "https://localhost:8080/"
        },
        "id": "JOTxWPF4mR0x",
        "outputId": "c3c6ff80-e19c-4273-c4e9-2f54f0c86058"
      },
      "source": [
        "#Create ndarrays from lists. note: every element must be the same type \n",
        "#(will be converted if possible)\n",
        "data1 = [1, 2, 3, 4, 5]               # list\n",
        "arr1 = np.array(data1)                # 1d array\n",
        "type(arr1)                            # numpy.ndarray\n",
        "data2 = [range(1, 5), range(5, 9)]    # list of lists\n",
        "data2"
      ],
      "execution_count": null,
      "outputs": [
        {
          "output_type": "execute_result",
          "data": {
            "text/plain": [
              "[range(1, 5), range(5, 9)]"
            ]
          },
          "metadata": {
            "tags": []
          },
          "execution_count": 8
        }
      ]
    },
    {
      "cell_type": "code",
      "metadata": {
        "colab": {
          "base_uri": "https://localhost:8080/"
        },
        "id": "4uy7shglrUlT",
        "outputId": "1b2f5dce-36c2-4907-89c9-b9d3581e825e"
      },
      "source": [
        "arr2 = np.array(data2)                # 2d array\n",
        "type(arr2)                            # numpy.ndarray\n",
        "arr2.tolist()                         # convert array back to list\n",
        "arr2"
      ],
      "execution_count": null,
      "outputs": [
        {
          "output_type": "execute_result",
          "data": {
            "text/plain": [
              "array([[1, 2, 3, 4],\n",
              "       [5, 6, 7, 8]])"
            ]
          },
          "metadata": {
            "tags": []
          },
          "execution_count": 11
        }
      ]
    },
    {
      "cell_type": "code",
      "metadata": {
        "colab": {
          "base_uri": "https://localhost:8080/"
        },
        "id": "wObAeFWvrKdY",
        "outputId": "a5b059a0-8e6c-483c-a626-99e4562c0b9b"
      },
      "source": [
        "# Create a vector as a row\n",
        "vector_row = np.array([1, 2, 3])\n",
        "\n",
        "# Create a vector as a column\n",
        "vector_column = np.array([[1],\n",
        "                          [2],\n",
        "                          [3]])\n",
        "vector_column"
      ],
      "execution_count": null,
      "outputs": [
        {
          "output_type": "execute_result",
          "data": {
            "text/plain": [
              "array([[1],\n",
              "       [2],\n",
              "       [3]])"
            ]
          },
          "metadata": {
            "tags": []
          },
          "execution_count": 13
        }
      ]
    },
    {
      "cell_type": "code",
      "metadata": {
        "colab": {
          "base_uri": "https://localhost:8080/"
        },
        "id": "uEFTQEgrr1B0",
        "outputId": "7a51da1c-4047-4a54-f5d1-e73183f680e4"
      },
      "source": [
        "\n",
        "# 2 x 3 matrix in Python    \n",
        "A = ( [ 2, 5, 7 ],\n",
        "      [ 4, 7, 9 ] )\n",
        "\n",
        "# 3 x 4 matrix in Python where entries are floating numbers\n",
        "B = ( [ 1.0, 3.5, 5.4, 7.9 ],\n",
        "      [ 9.0, 2.5, 4.2, 3.6 ],\n",
        "      [ 1.5, 3.2, 1.6, 6.5 ] )\n",
        "type(A)  # tuple\n",
        "type(B)  # tuple\n",
        "print(A)\n",
        "print(B)"
      ],
      "execution_count": null,
      "outputs": [
        {
          "output_type": "stream",
          "text": [
            "([2, 5, 7], [4, 7, 9])\n",
            "([1.0, 3.5, 5.4, 7.9], [9.0, 2.5, 4.2, 3.6], [1.5, 3.2, 1.6, 6.5])\n"
          ],
          "name": "stdout"
        }
      ]
    },
    {
      "cell_type": "code",
      "metadata": {
        "colab": {
          "base_uri": "https://localhost:8080/"
        },
        "id": "rxSbz4_dr9nt",
        "outputId": "e4885d44-7f87-45bd-dd18-afe14bb813ce"
      },
      "source": [
        "np.dot(A,B) # matrix의 곱 \n",
        "type(np.dot(A,B))  # numpy.ndarray\n",
        "np.dot(A,B)"
      ],
      "execution_count": null,
      "outputs": [
        {
          "output_type": "execute_result",
          "data": {
            "text/plain": [
              "array([[ 57.5,  41.9,  43. ,  79.3],\n",
              "       [ 80.5,  60.3,  65.4, 115.3]])"
            ]
          },
          "metadata": {
            "tags": []
          },
          "execution_count": 15
        }
      ]
    },
    {
      "cell_type": "code",
      "metadata": {
        "colab": {
          "base_uri": "https://localhost:8080/"
        },
        "id": "hvuvABdIsNAs",
        "outputId": "3f71e759-5117-42a2-f445-d4091603595e"
      },
      "source": [
        "A2=[ [ 2, 5, 7 ],\n",
        "      [ 4, 7, 9 ] ]\n",
        "\n",
        "B2=[ [ 1.0, 3.5, 5.4, 7.9 ],\n",
        "      [ 9.0, 2.5, 4.2, 3.6 ],\n",
        "      [ 1.5, 3.2, 1.6, 6.5 ] ]\n",
        "type(A2)  # list\n",
        "type(B2)  # list\n",
        "print(np.dot(A2,B2))\n",
        "print(type(np.dot(A2,B2)))  # numpy.ndarray"
      ],
      "execution_count": null,
      "outputs": [
        {
          "output_type": "stream",
          "text": [
            "[[ 57.5  41.9  43.   79.3]\n",
            " [ 80.5  60.3  65.4 115.3]]\n",
            "<class 'numpy.ndarray'>\n"
          ],
          "name": "stdout"
        }
      ]
    },
    {
      "cell_type": "code",
      "metadata": {
        "colab": {
          "base_uri": "https://localhost:8080/"
        },
        "id": "Of9RfBG6snx8",
        "outputId": "c5df5113-0c08-4d37-f653-9adc23e9d87f"
      },
      "source": [
        "# create special arrays\n",
        "np.zeros(10)"
      ],
      "execution_count": null,
      "outputs": [
        {
          "output_type": "execute_result",
          "data": {
            "text/plain": [
              "array([0., 0., 0., 0., 0., 0., 0., 0., 0., 0.])"
            ]
          },
          "metadata": {
            "tags": []
          },
          "execution_count": 17
        }
      ]
    },
    {
      "cell_type": "code",
      "metadata": {
        "colab": {
          "base_uri": "https://localhost:8080/"
        },
        "id": "jeXglzSts0lG",
        "outputId": "b1087dd7-5d8a-4473-fe55-bb5d7549c734"
      },
      "source": [
        "np.zeros((3, 6))"
      ],
      "execution_count": null,
      "outputs": [
        {
          "output_type": "execute_result",
          "data": {
            "text/plain": [
              "array([[0., 0., 0., 0., 0., 0.],\n",
              "       [0., 0., 0., 0., 0., 0.],\n",
              "       [0., 0., 0., 0., 0., 0.]])"
            ]
          },
          "metadata": {
            "tags": []
          },
          "execution_count": 18
        }
      ]
    },
    {
      "cell_type": "code",
      "metadata": {
        "colab": {
          "base_uri": "https://localhost:8080/"
        },
        "id": "BQ6CkdgAs3uR",
        "outputId": "8f5971b9-c28d-4c40-8497-a80da722bb56"
      },
      "source": [
        "np.ones(10)"
      ],
      "execution_count": null,
      "outputs": [
        {
          "output_type": "execute_result",
          "data": {
            "text/plain": [
              "array([1., 1., 1., 1., 1., 1., 1., 1., 1., 1.])"
            ]
          },
          "metadata": {
            "tags": []
          },
          "execution_count": 19
        }
      ]
    },
    {
      "cell_type": "code",
      "metadata": {
        "colab": {
          "base_uri": "https://localhost:8080/"
        },
        "id": "WpF7fhEMs4rw",
        "outputId": "552b8c1c-4309-423b-9c54-55e9b86d1513"
      },
      "source": [
        "np.linspace(0, 1, 5)     # 0 to 1 (inclusive) with 5 points"
      ],
      "execution_count": null,
      "outputs": [
        {
          "output_type": "execute_result",
          "data": {
            "text/plain": [
              "array([0.  , 0.25, 0.5 , 0.75, 1.  ])"
            ]
          },
          "metadata": {
            "tags": []
          },
          "execution_count": 20
        }
      ]
    },
    {
      "cell_type": "code",
      "metadata": {
        "colab": {
          "base_uri": "https://localhost:8080/"
        },
        "id": "gdyfm-6as6Dj",
        "outputId": "6816e7ad-231a-474f-dcd3-984d6a21965b"
      },
      "source": [
        "np.logspace(0, 3, 4)     # 10^0 to 10^3 (inclusive) with 4 points"
      ],
      "execution_count": null,
      "outputs": [
        {
          "output_type": "execute_result",
          "data": {
            "text/plain": [
              "array([   1.,   10.,  100., 1000.])"
            ]
          },
          "metadata": {
            "tags": []
          },
          "execution_count": 21
        }
      ]
    },
    {
      "cell_type": "code",
      "metadata": {
        "id": "MdUkwtrNs6tf"
      },
      "source": [
        "# arange is like range, except it returns an array (not a list)\n",
        "int_array = np.arange(5)               #NumPy 버전의 range 명령이라고 볼 수 있다.\n",
        "float_array = int_array.astype(float)"
      ],
      "execution_count": null,
      "outputs": []
    },
    {
      "cell_type": "markdown",
      "metadata": {
        "id": "gZhfefvSncKa"
      },
      "source": [
        "# 3.1.2 Examining arrays"
      ]
    },
    {
      "cell_type": "code",
      "metadata": {
        "id": "TiGjvlZ-mR4D"
      },
      "source": [
        "arr1.dtype    # int32\n",
        "arr1.ndim     # 1\n",
        "arr1.shape    # (5,) \n",
        "arr1.size     # 5 - total number of elements\n",
        "len(arr1)     # 5 \n",
        "\n",
        "arr2.dtype    # int32\n",
        "arr2.ndim     # 2\n",
        "arr2.shape    # (2, 4) - axis 0 is rows, axis 1 is columns\n",
        "arr2.size     # 8 - total number of elements\n",
        "len(arr2)     # 2 - size of first dimension (aka axis)\n"
      ],
      "execution_count": null,
      "outputs": []
    },
    {
      "cell_type": "markdown",
      "metadata": {
        "id": "P91Wq-6Qnhbo"
      },
      "source": [
        "# 3.1.3 Reshaping"
      ]
    },
    {
      "cell_type": "code",
      "metadata": {
        "id": "4BLkLT45mSr4"
      },
      "source": [
        "arr = np.arange(10, dtype=float).reshape((2, 5))\n",
        "print(arr.shape)   # (2,5)\n",
        "print(arr.reshape(5, 2))\n",
        "\"\"\"\n",
        "[[0. 1.]\n",
        "[2. 3.]\n",
        "[4. 5.]\n",
        "[6. 7.]\n",
        "[8. 9.]]\n",
        "\"\"\"\n",
        "\n",
        "# Add an axis\n",
        "a = np.array([0, 1])\n",
        "a.shape                     #Out: (2,)\n",
        "a.ndim                      #Out: 1\n",
        "a_col = a[:, np.newaxis]    #행 부분에 np.newaxis를 입력시, 1D array를 row vector로 만든다.\n",
        "                            #열 부분에 np.newaxis를 입력시, 1D array를 column vector로 만든다.\n",
        "a_col.shape                 #Out: (2, 1)\n",
        "print(a_col)\n",
        "#Out:\n",
        "#[[0]\n",
        "#[1]]\n",
        "\n",
        "a_col1 = a[np.newaxis,:] \n",
        "a_col1.shape                #Out: (1,2)\n",
        "print(a_col1)               #Out: [[0 1]]\n",
        "    \n",
        "#or\n",
        "a_col2 = a[:, None]\n",
        "a_col2.shape                #Out: (2, 1)\n",
        "print(a_col2)\n",
        "#Out:\n",
        "#[[0]\n",
        "#[1]]\n",
        "\n",
        "# Transpose\n",
        "print(a_col.T)\n",
        "#Out:\n",
        "#[[0 1]]\n",
        "\n",
        "b = np.array([[1, 2],\n",
        "              [3, 4]], dtype=int)\n",
        "print(b)\n",
        "#[[1 2]\n",
        "# [3 4]]\n",
        "\n",
        "c = b[:, np.newaxis]\n",
        "c.shape  # (2, 1, 2)\n",
        "print(c)\n",
        "#[[[1 2]]\n",
        "# [[3 4]]]\n",
        "\n",
        "print(c[1][0])         #[3 4]\n",
        "print(c[1][0][1])      #4\n",
        "\n",
        "# Flatten: always returns a flat copy of the orriginal array\n",
        "arr_flt = arr.flatten()\n",
        "arr_flt[0] = 33\n",
        "print(arr_flt)\n",
        "print(arr)\n",
        "\n",
        "#Out:\n",
        "#[33. 1. 2. 3. 4. 5. 6. 7. 8. 9.]\n",
        "#[[0. 1. 2. 3. 4.]\n",
        "#[5. 6. 7. 8. 9.]]\n",
        "\n",
        "#Ravel: returns a view of the original array whenever possible.\n",
        "arr_flt2 = arr.ravel()\n",
        "arr_flt2[0] = 33\n",
        "print(arr_flt2)\n",
        "print(arr)\n",
        "\n",
        "#Out:\n",
        "#[33. 1. 2. 3. 4. 5. 6. 7. 8. 9.]\n",
        "#[[33. 1. 2. 3. 4.]\n",
        "#[ 5. 6. 7. 8. 9.]]\n"
      ],
      "execution_count": null,
      "outputs": []
    },
    {
      "cell_type": "markdown",
      "metadata": {
        "id": "Rcsiq81dnlgC"
      },
      "source": [
        "# 3.1.4 Stack arrays"
      ]
    },
    {
      "cell_type": "code",
      "metadata": {
        "id": "RP4etNV2mSuu"
      },
      "source": [
        "#Stack flat arrays in columns\n",
        "a = np.array([0, 1])\n",
        "b = np.array([2, 3])\n",
        "ab = np.stack((a, b))\n",
        "ab_t = np.stack((a, b)).T\n",
        "print(ab)\n",
        "#[[0 1]\n",
        "#[2 3]]\n",
        "\n",
        "print(ab_t)\n",
        "#[[0 2]\n",
        "#[1 3]]\n",
        "    \n",
        "# or\n",
        "np.hstack((a[:, None], b[:, None]))\n",
        "\n",
        "#Out:\n",
        "#[[0 2]\n",
        "#[1 3]]\n"
      ],
      "execution_count": null,
      "outputs": []
    },
    {
      "cell_type": "markdown",
      "metadata": {
        "id": "jwWelq6UnoXy"
      },
      "source": [
        "# 3.1.5 Selection"
      ]
    },
    {
      "cell_type": "code",
      "metadata": {
        "id": "Q1hnSAJamSx9"
      },
      "source": [
        "# Single item\n",
        "arr = np.arange(10, dtype=float).reshape((2, 5))\n",
        "arr[0]        # 0th element (slices like a list)\n",
        "arr[0, 3]     # row 0, column 3: returns 3\n",
        "arr[0][3]     # alternative syntax: returns 3\n",
        "\n",
        "## Slicing\n",
        "#Syntax: start:stop:step with start (default 0) stop (default last) step (default 1)\n",
        "arr[0, :] # row 0: returns 1d array ([0, 1, 2, 3, 4])\n",
        "arr[:, 0] # column 0: returns 1d array ([0, 5])\n",
        "arr[:, :2] # columns strictly before index 2 (2 first columns)\n",
        "arr[:, 2:] # columns after index 2 included\n",
        "arr2 = arr[:, 1:4] # columns between index 1 (included) and 4 (excluded)\n",
        "print(arr2)\n",
        "#Out:\n",
        "#[[1. 2. 3.]\n",
        "#[6. 7. 8.]]\n",
        "\n",
        "#Slicing returns a view (not a copy)\n",
        "arr2[0, 0] = 33\n",
        "print(arr2)\n",
        "print(arr)\n",
        "#Out:\n",
        "#[[33. 2. 3.]\n",
        "#[ 6. 7. 8.]]\n",
        "#[[ 0. 33. 2. 3. 4.]\n",
        "#[ 5. 6. 7. 8. 9.]]\n",
        "\n",
        "#Row 0: reverse order\n",
        "print(arr[0, ::-1])\n",
        "# The rule of thumb here can be: in the context of lvalue indexing (i.e. the indices are␣\n",
        "#placed in the left hand side value of an assignment), no view or copy of the array is␣\n",
        "#created (because there is no need to). However, with regular values, the above rules␣\n",
        "#for creating views does apply.\n",
        "\n",
        "#Out:\n",
        "#[ 4. 3. 2. 33. 0.]\n",
        "\n",
        "##Fancy indexing: Integer or boolean array indexing\n",
        "\n",
        "#Fancy indexing returns a copy not a view.\n",
        "\n",
        "#Integer array indexing\n",
        "arr = np.arange(10, dtype=float).reshape((2, 5))\n",
        "arr2 = arr[:, [1,2,3]]  # return a copy  #arr[:, 1:4]와 차이가 있음 1:4\n",
        "#print(arr2)\n",
        "arr2[0, 0] = 44\n",
        "print(arr2)\n",
        "print(arr)\n",
        "\n",
        "#Out:\n",
        "#[[44.  2.  3.]\n",
        "# [ 6.  7.  8.]]\n",
        "#[[ 0. 1. 2. 3. 4.]\n",
        "#[ 5. 6. 7. 8. 9.]]\n",
        "\n",
        "#Boolean arrays indexing\n",
        "arr = np.arange(10, dtype=float).reshape((2, 5))\n",
        "arr2 = arr[arr > 5] # return a copy\n",
        "print(arr2)     #[6. 7. 8. 9.]\n",
        "\n",
        "arr2[0] = 44\n",
        "print(arr2)     #[44.  7.  8.  9.]\n",
        "print(arr)\n",
        "#Out:\n",
        "#[[0. 1. 2. 3. 4.]\n",
        "# [5. 6. 7. 8. 9.]]\n",
        "\n",
        "#However, in the context of lvalue indexing (left hand side value of an assignment) \n",
        "#Fancy authorizes the modification of the original array\n",
        "arr = np.arange(10, dtype=float).reshape((2, 5))\n",
        "arr[arr > 5] = 0\n",
        "print(arr)\n",
        "#Out:\n",
        "#[[0. 1. 2. 3. 4.]\n",
        "#[5. 0. 0. 0. 0.]]\n",
        "\n",
        "#Boolean arrays indexing continues\n",
        "names = np.array(['Bob', 'Joe', 'Will', 'Bob'])\n",
        "names == 'Bob'                           # returns a boolean array,  #Out: array([ True, False, False,  True])\n",
        "names[names != 'Bob']                    # logical selection,  #Out: array(['Joe', 'Will'], dtype='<U4')\n",
        "(names == 'Bob') | (names == 'Will')     # keywords \"and/or\" don't work with boolean arrays,  #Out: array([ True, False,  True,  True])\n",
        "names[names != 'Bob'] = 'Joe'            # assign based on a logical selection,  #Out: array(['Bob', 'Joe', 'Joe', 'Bob'], dtype='<U4')\n",
        "np.unique(names)                         # set function,  #Out: array(['Bob', 'Joe'], dtype='<U4')"
      ],
      "execution_count": null,
      "outputs": []
    },
    {
      "cell_type": "markdown",
      "metadata": {
        "id": "85jUInvinryi"
      },
      "source": [
        "# 3.1.6 Vectorized operations"
      ]
    },
    {
      "cell_type": "code",
      "metadata": {
        "id": "AcVIkD70mS01"
      },
      "source": [
        "nums = np.arange(5)\n",
        "nums * 10                   # multiply each element by 10,  #Out: array([ 0, 10, 20, 30, 40])\n",
        "nums = np.sqrt(nums)        # square root of each element, \n",
        "                            #Out: array([0., 1., 1.41421356, 1.73205081, 2. ]) \n",
        "np.ceil(nums)               # The ceil of the scalar x is the smallest integer i, such that i >= x.\n",
        "                            #Out: array([0., 1., 2., 2., 2.])\n",
        "np.isnan(nums)              # checks for NaN,  #Out: array([False, False, False, False, False])\n",
        "nums + np.arange(5)         # add element-wise, Out: array([0., 2., 3.41421356, 4.73205081, 6.])\n",
        "np.maximum(nums, np.array([1, -2, 3, -4, 5])) # compare element-wise and take maximum value element-wise\n",
        "\n",
        "# Compute Euclidean distance between 2 vectors\n",
        "vec1 = np.random.randn(10)\n",
        "vec2 = np.random.randn(10)\n",
        "dist = np.sqrt(np.sum((vec1 - vec2) ** 2))    #math.sqrt()\n",
        "\n",
        "# math and stats\n",
        "rnd = np.random.randn(4, 2)   # random normals in 4x2 array\n",
        "rnd.mean()\n",
        "rnd.std()\n",
        "rnd.argmin()                  # index of minimum element\n",
        "rnd.sum()\n",
        "rnd.sum(axis=0)               # sum of columns  # \"axis 0\" goes along rows direction and \"axis 1\" goes along columns direction.\n",
        "rnd.sum(axis=1)               # sum of rows\n",
        "\n",
        "mat = np.array([[1, 2],[3,4]])\n",
        "mat.argmin() \n",
        "mat.sum(axis=0)               # sum of columns # \"axis 0\" goes along rows direction and \"axis 1\" goes along columns direction.\n",
        "mat.sum(axis=1)               # sum of rows\n",
        "\n",
        "# methods for boolean arrays\n",
        "(rnd > 0).sum()               # counts number of positive values\n",
        "(rnd > 0).any()               # checks if any value is True\n",
        "(rnd > 0).all()               # checks if all values are True\n",
        "\n",
        "# random numbers\n",
        "# random.seed(234)            # import random\n",
        "np.random.seed(12234)         # Set the seed\n",
        "np.random.rand(2, 3)          # 2 x 3 matrix in [0, 1]\n",
        "np.random.randn(10)           # random normals (mean 0, sd 1)\n",
        "np.random.randint(0, 2, 10)   # 10 randomly picked 0 or 1,  #numpy.random.randint(low, high=None, size=None, dtype='l')¶\n",
        "# random.randint(a, b) returns a random integer N such that a <= N <= b.\n"
      ],
      "execution_count": null,
      "outputs": []
    },
    {
      "cell_type": "markdown",
      "metadata": {
        "id": "aJ_nkbv0nv_I"
      },
      "source": [
        "# 3.1.7 Broadcasting"
      ]
    },
    {
      "cell_type": "code",
      "metadata": {
        "id": "R19QavqYmnjF"
      },
      "source": [
        "\n",
        "## Rules\n",
        "a = np.array([[0, 0, 0],\n",
        "              [10, 10, 10],\n",
        "              [20, 20, 20],\n",
        "              [30, 30, 30]])\n",
        "\n",
        "b = np.array([0, 1, 2])\n",
        "print(a + b)\n",
        "\n",
        "#Out:\n",
        "#[[ 0 1 2]\n",
        "#[10 11 12]\n",
        "#[20 21 22]\n",
        "#[30 31 32]]\n",
        "\n",
        "#=========================#\n",
        "#======== Examples =======#\n",
        "#=========================#\n",
        "x = np.arange(4)\n",
        "xx = x.reshape(4,1)\n",
        "y = np.ones(5)\n",
        "y1 = np.ones((5,), dtype=int)\n",
        "z = np.ones((3,4))    # np.ones(3,4)  # TypeError: Cannot interpret '4' as a data type\n",
        "# np.zeros\n",
        "\n",
        "x.shape  #(4,)\n",
        "y.shape  #(5,)\n",
        "z.shape  #(3, 4)\n",
        "\n",
        "x + y\n",
        "# ValueError: operands could not be broadcast together with shapes (4,) (5,)\n",
        "\n",
        "xx.shape   #(4, 1)\n",
        "y.shape    #(5,)\n",
        "\n",
        "(xx + y).shape  #(4, 5)\n",
        "xx + y\n",
        "#array([[ 1.,  1.,  1.,  1.,  1.],\n",
        "#       [ 2.,  2.,  2.,  2.,  2.],\n",
        "#       [ 3.,  3.,  3.,  3.,  3.],\n",
        "#       [ 4.,  4.,  4.,  4.,  4.]])\n",
        "\n",
        "(x + z).shape  #(3, 4)\n",
        "x + z\n",
        "#array([[ 1.,  2.,  3.,  4.],\n",
        "#       [ 1.,  2.,  3.,  4.],\n",
        "#       [ 1.,  2.,  3.,  4.]])\n",
        "\n",
        "# Broadcasting provides a convenient way of taking the outer product (or any other outer operation) of two arrays. \n",
        "# The following example shows an outer addition operation of two 1-d arrays:\n",
        "\n",
        "a = np.array([0.0, 10.0, 20.0, 30.0])\n",
        "b = np.array([1.0, 2.0, 3.0])\n",
        "a[:, np.newaxis] + b\n",
        "#array([[  1.,   2.,   3.],\n",
        "#       [ 11.,  12.,  13.],\n",
        "#       [ 21.,  22.,  23.],\n",
        "#       [ 31.,  32.,  33.]])\n",
        "\n",
        "#Shapes of operands A, B and result:\n",
        "\"\"\"\n",
        "A (2d array): 5 x 4\n",
        "B (1d array): 1\n",
        "Result (2d array): 5 x 4\n",
        "A (2d array): 5 x 4\n",
        "B (1d array): 4\n",
        "Result (2d array): 5 x 4\n",
        "A (3d array): 15 x 3 x 5\n",
        "B (3d array): 15 x 1 x 5\n",
        "Result (3d array): 15 x 3 x 5\n",
        "A (3d array): 15 x 3 x 5\n",
        "B (2d array): 3 x 5\n",
        "Result (3d array): 15 x 3 x 5\n",
        "A (3d array): 15 x 3 x 5\n",
        "B (2d array): 3 x 1\n",
        "Result (3d array): 15 x 3 x 5\n",
        "\"\"\"\n",
        "\n"
      ],
      "execution_count": null,
      "outputs": []
    },
    {
      "cell_type": "code",
      "metadata": {
        "id": "0d3bjFP7mnlv"
      },
      "source": [
        ""
      ],
      "execution_count": null,
      "outputs": []
    },
    {
      "cell_type": "code",
      "metadata": {
        "id": "kT43nqgbmnrK"
      },
      "source": [
        ""
      ],
      "execution_count": null,
      "outputs": []
    },
    {
      "cell_type": "code",
      "metadata": {
        "id": "OEw5w0nomnvt"
      },
      "source": [
        ""
      ],
      "execution_count": null,
      "outputs": []
    },
    {
      "cell_type": "code",
      "metadata": {
        "id": "vDwDME9jmnye"
      },
      "source": [
        ""
      ],
      "execution_count": null,
      "outputs": []
    },
    {
      "cell_type": "code",
      "metadata": {
        "id": "BZDXsNsjmS3b"
      },
      "source": [
        ""
      ],
      "execution_count": null,
      "outputs": []
    }
  ]
}