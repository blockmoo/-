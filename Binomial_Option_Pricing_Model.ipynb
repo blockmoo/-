{
  "nbformat": 4,
  "nbformat_minor": 0,
  "metadata": {
    "colab": {
      "name": "Binomial Option Pricing Model.ipynb",
      "provenance": [],
      "collapsed_sections": [],
      "authorship_tag": "ABX9TyM5H+CgSru2sq0Ft5sDDx6w",
      "include_colab_link": true
    },
    "kernelspec": {
      "name": "python3",
      "display_name": "Python 3"
    }
  },
  "cells": [
    {
      "cell_type": "markdown",
      "metadata": {
        "id": "view-in-github",
        "colab_type": "text"
      },
      "source": [
        "<a href=\"https://colab.research.google.com/github/blockmoo/python_tutoring/blob/main/Binomial_Option_Pricing_Model.ipynb\" target=\"_parent\"><img src=\"https://colab.research.google.com/assets/colab-badge.svg\" alt=\"Open In Colab\"/></a>"
      ]
    },
    {
      "cell_type": "markdown",
      "metadata": {
        "id": "CW0MIKosBOwl"
      },
      "source": [
        "http://www.josephthurman.com/binomial3.html"
      ]
    },
    {
      "cell_type": "code",
      "metadata": {
        "id": "NfQUYNPCBACn"
      },
      "source": [
        "import math\n",
        "\n",
        "def first_binomial_call(S, K, T, r, u, d, N):\n",
        "    dt = T/N\n",
        "    p = (math.exp(r * dt) - d)/(u - d)\n",
        "    C = {}\n",
        "    for m in range(0, N+1):\n",
        "            C[(N, m)] = max(S * (u ** (m)) * (d ** (N-m)) - K, 0)\n",
        "    for k in range(N-1, -1, -1):\n",
        "        for m in range(0,k+1):\n",
        "            C[(k, m)] = math.exp(-r * dt) * (p * C[(k+1, m+1)] + (1-p) * C[(k+1, m)])\n",
        "    return C[(0,0)]"
      ],
      "execution_count": null,
      "outputs": []
    },
    {
      "cell_type": "code",
      "metadata": {
        "colab": {
          "base_uri": "https://localhost:8080/"
        },
        "id": "FBE1EVlnBAfd",
        "outputId": "edab5ebe-e8c5-4bb3-8ce3-68663a1ddef7"
      },
      "source": [
        "first_binomial_call(100, 100, 1, 0, 1.2, 0.8, 1)"
      ],
      "execution_count": null,
      "outputs": [
        {
          "output_type": "execute_result",
          "data": {
            "text/plain": [
              "10.0"
            ]
          },
          "metadata": {
            "tags": []
          },
          "execution_count": 2
        }
      ]
    },
    {
      "cell_type": "code",
      "metadata": {
        "colab": {
          "base_uri": "https://localhost:8080/"
        },
        "id": "_aZ5zKAnBAhx",
        "outputId": "a27fedc1-4250-4bcb-cf60-0068d074685b"
      },
      "source": [
        "for N in [1,10,100,200,300,400,500]:\n",
        "    print(\"With N = {:3d}, the price is {:.2f}\".format(N,first_binomial_call(100, 100, 1, 0, 1.2, 0.8, N)))"
      ],
      "execution_count": null,
      "outputs": [
        {
          "output_type": "stream",
          "text": [
            "With N =   1, the price is 10.00\n",
            "With N =  10, the price is 25.62\n",
            "With N = 100, the price is 68.55\n",
            "With N = 200, the price is 84.56\n",
            "With N = 300, the price is 91.90\n",
            "With N = 400, the price is 95.61\n",
            "With N = 500, the price is 97.58\n"
          ],
          "name": "stdout"
        }
      ]
    },
    {
      "cell_type": "code",
      "metadata": {
        "id": "I2-azlkLBAlo"
      },
      "source": [
        "def binomial_call(S, K, T, r, vol, N):\n",
        "    \"\"\"\n",
        "    Implements the binomial option pricing model to price a European call option on a stock\n",
        "    S - stock price today\n",
        "    K - strike price of the option\n",
        "    T - time until expiry of the option\n",
        "    r - risk-free interest rate\n",
        "    vol - the volatility of the stock\n",
        "    N - number of steps in the model\n",
        "    \"\"\"\n",
        "    dt = T/N\n",
        "    u =  math.exp(vol * math.sqrt(dt))\n",
        "    d = 1/u\n",
        "    p = (math.exp(r * dt) - d)/(u - d)\n",
        "    C = {}\n",
        "    for m in range(0, N+1):\n",
        "            C[(N, m)] = max(S * (u ** (2*m - N)) - K, 0)\n",
        "    for k in range(N-1, -1, -1):\n",
        "        for m in range(0,k+1):\n",
        "            C[(k, m)] = math.exp(-r * dt) * (p * C[(k+1, m+1)] + (1-p) * C[(k+1, m)])\n",
        "    return C[(0,0)]"
      ],
      "execution_count": null,
      "outputs": []
    },
    {
      "cell_type": "code",
      "metadata": {
        "colab": {
          "base_uri": "https://localhost:8080/"
        },
        "id": "EK_3ABc9BAn0",
        "outputId": "24fa41c6-77dd-449e-ed02-e0eec777ceb8"
      },
      "source": [
        "for N in [1,2,10,100,200,300,400,500]:\n",
        "    print(\"With {:3d} steps, the price is {:.2f}\".format(N,binomial_call(100, 100, 1, 0, math.log(1.2), N)))"
      ],
      "execution_count": null,
      "outputs": [
        {
          "output_type": "stream",
          "text": [
            "With   1 steps, the price is 9.09\n",
            "With   2 steps, the price is 6.44\n",
            "With  10 steps, the price is 7.08\n",
            "With 100 steps, the price is 7.25\n",
            "With 200 steps, the price is 7.25\n",
            "With 300 steps, the price is 7.26\n",
            "With 400 steps, the price is 7.26\n",
            "With 500 steps, the price is 7.26\n"
          ],
          "name": "stdout"
        }
      ]
    },
    {
      "cell_type": "markdown",
      "metadata": {
        "id": "EtfP1szRB6BG"
      },
      "source": [
        "https://wikidocs.net/80643     in Rcode"
      ]
    },
    {
      "cell_type": "code",
      "metadata": {
        "colab": {
          "base_uri": "https://localhost:8080/",
          "height": 136
        },
        "id": "oGwAV11oB62B",
        "outputId": "cb6a6746-0ac9-4240-914b-0002b665dd8b"
      },
      "source": [
        "function BTEPut(S0,K,r,sigma,T,M)\n",
        "\n",
        "# Binomial European Put Option Pricing based on CRR(1979)\n",
        "# Author : SeongDeok Ko\n",
        "# S0 : Time zero Stock price\n",
        "# K : Strike price\n",
        "# r : Annualised Risk Free rate of return\n",
        "# sigma : Annualised volatility of return\n",
        "# T : Time\n",
        "# M : Number of period of tree\n",
        "\n",
        "dt = T/M ;\n",
        "u = exp( sigma * sqrt(dt) ) ; \n",
        "d = 1/u ; \n",
        "q = (exp(r * dt) - d) / (u-d) ;\n",
        "DF = exp(-r*dt);\n",
        "S = zeros(M +1 , 1); \n",
        "S[1] = S0 * u^M ; \n",
        "\n",
        "for j = 1:M\n",
        "    S[j+1] = S(j) * d /u ;\n",
        "end\n",
        "\n",
        "PF = max.(K .-S,0); # Julia에서는 max(S -K,0) 이렇게 하면 안 돌아갑니다. \n",
        "\n",
        "for j = 1:M\n",
        "           S[j+1] = S[j] * d /u ;\n",
        "end\n",
        "for i = M:-1:1\n",
        "           for j = 0:(i-1)\n",
        "               PF[ M+1 - j,1] = DF * ( q * PF[M-j, 1 ] + (1-q) * PF[M+1-j,1] );\n",
        "           end\n",
        "end\n",
        "return PF[end]"
      ],
      "execution_count": null,
      "outputs": [
        {
          "output_type": "error",
          "ename": "SyntaxError",
          "evalue": "ignored",
          "traceback": [
            "\u001b[0;36m  File \u001b[0;32m\"<ipython-input-6-4710532e14af>\"\u001b[0;36m, line \u001b[0;32m1\u001b[0m\n\u001b[0;31m    function BTEPut(S0,K,r,sigma,T,M)\u001b[0m\n\u001b[0m                  ^\u001b[0m\n\u001b[0;31mSyntaxError\u001b[0m\u001b[0;31m:\u001b[0m invalid syntax\n"
          ]
        }
      ]
    },
    {
      "cell_type": "markdown",
      "metadata": {
        "id": "fHmZm6O9D2LJ"
      },
      "source": [
        "https://www.youtube.com/watch?v=lSnWkQYbWyA"
      ]
    },
    {
      "cell_type": "code",
      "metadata": {
        "id": "PlAYhSSwB67i"
      },
      "source": [
        "import numpy as np\n",
        "import time"
      ],
      "execution_count": null,
      "outputs": []
    },
    {
      "cell_type": "code",
      "metadata": {
        "id": "VIxNhuTlB7OE"
      },
      "source": [
        "def binom_tree_call(N, T, S0, sigma, r, K, array_out=False):\n",
        "  #Init\n",
        "  dt = T/N\n",
        "  u = np.exp(sigma*np.sqrt(dt))\n",
        "  d = 1/u\n",
        "  p = (np.exp(r*dt) - d)/(u-d)\n",
        "\n",
        "  #price tree\n",
        "  price_tree = np.zeros([N+1, N+1])\n",
        "\n",
        "  for i in range(N+1):\n",
        "    for j in range(i+1):\n",
        "      price_tree[j, i] = S0*(d**j)*(u**(i-j))\n",
        "\n",
        "  # Option value\n",
        "  option = np.zeros([N+1, N+1])\n",
        "  option[:, N] = np.maximum(np.zeros(N+1), price_tree[:, N]-K)\n",
        "\n",
        "  # Calculate option price at t=0\n",
        "  for i in np.arange(N-1, -1, -1):\n",
        "    for j in np.arange(0, i+1):\n",
        "      option[j, i] = np.exp(-r*dt)*(p*option[j, i+1]+(1-p)*option[j+1, i+1])\n",
        "\n",
        "      #Return\n",
        "      if array_out:\n",
        "        return [option[0, 0], price_tree, option]\n",
        "      else:\n",
        "        return option[0, 0]"
      ],
      "execution_count": null,
      "outputs": []
    },
    {
      "cell_type": "code",
      "metadata": {
        "colab": {
          "base_uri": "https://localhost:8080/"
        },
        "id": "01c-4t6WFAlr",
        "outputId": "46d4ec19-86c0-4ca8-ed97-2c798a7c04a6"
      },
      "source": [
        "binom_tree_call(50, 1, 100, 0.1, 0.05, 100, True)"
      ],
      "execution_count": null,
      "outputs": [
        {
          "output_type": "execute_result",
          "data": {
            "text/plain": [
              "[0.0, array([[100.        , 101.42426087, 102.86880693, ..., 197.15548787,\n",
              "         199.96349633, 202.81149816],\n",
              "        [  0.        ,  98.59573946, 100.        , ..., 191.65721247,\n",
              "         194.38691115, 197.15548787],\n",
              "        [  0.        ,   0.        ,  97.2111984 , ..., 186.31227307,\n",
              "         188.96584587, 191.65721247],\n",
              "        ...,\n",
              "        [  0.        ,   0.        ,   0.        , ...,  50.72138802,\n",
              "          51.4437929 ,  52.17648671],\n",
              "        [  0.        ,   0.        ,   0.        , ...,   0.        ,\n",
              "          50.00912758,  50.72138802],\n",
              "        [  0.        ,   0.        ,   0.        , ...,   0.        ,\n",
              "           0.        ,  49.30686914]]), array([[  0.        ,   0.        ,   0.        , ...,   0.        ,\n",
              "         100.06344635, 102.81149816],\n",
              "        [  0.        ,   0.        ,   0.        , ...,   0.        ,\n",
              "           0.        ,  97.15548787],\n",
              "        [  0.        ,   0.        ,   0.        , ...,   0.        ,\n",
              "           0.        ,  91.65721247],\n",
              "        ...,\n",
              "        [  0.        ,   0.        ,   0.        , ...,   0.        ,\n",
              "           0.        ,   0.        ],\n",
              "        [  0.        ,   0.        ,   0.        , ...,   0.        ,\n",
              "           0.        ,   0.        ],\n",
              "        [  0.        ,   0.        ,   0.        , ...,   0.        ,\n",
              "           0.        ,   0.        ]])]"
            ]
          },
          "metadata": {
            "tags": []
          },
          "execution_count": 18
        }
      ]
    },
    {
      "cell_type": "code",
      "metadata": {
        "colab": {
          "base_uri": "https://localhost:8080/"
        },
        "id": "EKaKr4qBFUbG",
        "outputId": "fd0af996-28d6-49b1-ea34-448dd4a42a9b"
      },
      "source": [
        "start_time = time.time()\n",
        "for i in range(1000):\n",
        "  binom_tree_call(50, 1, 100, 0.1, 0.05, 100, True)\n",
        "end_time = time.time()\n",
        "print(end_time - start_time)"
      ],
      "execution_count": null,
      "outputs": [
        {
          "output_type": "stream",
          "text": [
            "1.899461269378662\n"
          ],
          "name": "stdout"
        }
      ]
    },
    {
      "cell_type": "code",
      "metadata": {
        "id": "qP83TOW0F7QD"
      },
      "source": [
        "@autojit\n",
        "def binom_tree_call_put(N, T, S0, sigma, r, K, call=True, array_out=False):\n",
        "  #Init\n",
        "  dt = T/N\n",
        "  u = np.exp(sigma*np.sqrt(dt))\n",
        "  d = 1/u\n",
        "  p = (np.exp(r*dt) - d)/(u-d)\n",
        "\n",
        "  #price tree\n",
        "  price_tree = np.zeros([N+1, N+1])\n",
        "\n",
        "  for i in range(N+1):\n",
        "    for j in range(i+1):\n",
        "      price_tree[j, i] = S0*(d**j)*(u**(i-j))\n",
        "\n",
        "  # Option value\n",
        "  option = np.zeros([N+1, N+1])\n",
        "  if call:\n",
        "    option[:, N] = np.maximum(np.zeros(N+1), price_tree[:, N]-K)\n",
        "  else:\n",
        "    option[:, N] = np.maximum(np.zeros(N+1),K - price_tree[:, N])\n",
        "\n",
        "  # Calculate option price at t=0\n",
        "  for i in np.arange(N-1, -1, -1):\n",
        "    for j in np.arange(0, i+1):\n",
        "      option[j, i] = np.exp(-r*dt)*(p*option[j, i+1]+(1-p)*option[j+1, i+1])\n",
        "\n",
        "      #Return\n",
        "      if array_out:\n",
        "        return [option[0, 0], price_tree, option]\n",
        "      else:\n",
        "        return option[0, 0]"
      ],
      "execution_count": null,
      "outputs": []
    },
    {
      "cell_type": "code",
      "metadata": {
        "id": "DdwlZP80HJex"
      },
      "source": [
        "binom_tree_call_put(N=50, T=1, S0=100, sigma=0.2, r=0.06, K=99, call=True, array_out=False)"
      ],
      "execution_count": null,
      "outputs": []
    },
    {
      "cell_type": "markdown",
      "metadata": {
        "id": "Sgxpn_L8I2TO"
      },
      "source": [
        "또다른 binomial tree python code\n",
        "\n",
        "> https://slidetodoc.com/crr-and-american-options-date-oct-2014-authors/\n",
        "\n"
      ]
    },
    {
      "cell_type": "code",
      "metadata": {
        "id": "T1Y7Mo79HZ9H"
      },
      "source": [
        "# Author: Victor Lopez Lopez,\n",
        "# Group Members: Shedrack Lutembeka, Bo Yuan, Victor Lopez Lopez\n",
        "# Binomial tree (Cox-Rox-Rubenstein) for American Option Valuation \n",
        "\n",
        "# Inspired on: \n",
        "# Binomial Tree for America and European options by Mehdi Bounouar\n",
        "# Binomial Tree Option Valuation Cox, Ross, Rubinstein method by \"www.quantandfinancial.com\"\n",
        "import matplotlib.pyplot as plt\n",
        "import numpy as np\n",
        "\n",
        "def Binomial(n, S, K, r, v, t, PutCall):  \n",
        "    At = t/n \n",
        "    u = np.exp(v*np.sqrt(At))\n",
        "    d = 1./u\n",
        "    p = (np.exp(r*At)-d) / (u-d) \n",
        "\n",
        "    #Binomial price tree\n",
        "    stockvalue = np.zeros((n+1,n+1))\n",
        "    stockvalue[0,0] = S\n",
        "    for i in range(1,n+1):\n",
        "        stockvalue[i,0] = stockvalue[i-1,0]*u\n",
        "        for j in range(1,i+1):\n",
        "            stockvalue[i,j] = stockvalue[i-1,j-1]*d\n",
        "    \n",
        "    #option value at final node   \n",
        "    optionvalue = np.zeros((n+1,n+1))\n",
        "    for j in np.arange(n+1):\n",
        "        if PutCall==\"C\": # Call\n",
        "            optionvalue[n,j] = max(0, stockvalue[n,j]-K)\n",
        "        elif PutCall==\"P\": #Put\n",
        "            optionvalue[n,j] = max(0, K-stockvalue[n,j])\n",
        "    \n",
        "    #backward calculation for option price    \n",
        "    for i in np.arange(n-1,-1,-1):\n",
        "        for j in np.arange(i+1):\n",
        "                if PutCall==\"P\":\n",
        "                    optionvalue[i,j] = max(0, K-stockvalue[i,j], np.exp(-r*At)*(p*optionvalue[i+1,j]+(1-p)*optionvalue[i+1,j+1]))\n",
        "                elif PutCall==\"C\":\n",
        "                    optionvalue[i,j] = max(0, stockvalue[i,j]-K, np.exp(-r*At)*(p*optionvalue[i+1,j]+(1-p)*optionvalue[i+1,j+1]))\n",
        "    return optionvalue[0,0]\n",
        "\n"
      ],
      "execution_count": null,
      "outputs": []
    },
    {
      "cell_type": "code",
      "metadata": {
        "id": "_w4db9d4I-6h"
      },
      "source": [
        "    # Inputs\n",
        "n = 10 #input(\"Enter number of binomial steps: \")           #number of steps\n",
        "S = 100 #input(\"Enter the initial underlying asset price: \") #initial underlying asset price\n",
        "r = 0.06 #input(\"Enter the risk-free interest rate: \")        #risk-free interest rate\n",
        "K = 105 #input(\"Enter the option strike price: \")            #strike price\n",
        "v = 0.4 #input(\"Enter the volatility factor: \")              #volatility\n",
        "t = 1."
      ],
      "execution_count": null,
      "outputs": []
    },
    {
      "cell_type": "code",
      "metadata": {
        "colab": {
          "base_uri": "https://localhost:8080/",
          "height": 313
        },
        "id": "2SiKn4M2JD0h",
        "outputId": "e136bd75-6816-4308-abc5-91d7ee8fdb34"
      },
      "source": [
        "    #Graphs and results for the Option prices\n",
        "\n",
        "y = [-Binomial(n, S, K, r, v, t, \"C\")] * (K)\n",
        "y += [x - Binomial(n, S, K, r, v, t, \"C\") for x in range(K)] \n",
        "\n",
        "plt.plot(range(2*K), y)\n",
        "plt.axis([0, 2*K, min(y) - 10, max(y) + 10])\n",
        "plt.xlabel('Underlying asset price')\n",
        "plt.ylabel('Profits')\n",
        "plt.axvline(x=K, linestyle='--', color='black')\n",
        "plt.axhline(y=0, linestyle=':', color='black')\n",
        "plt.title('American Call Option')\n",
        "plt.text(105, 0, 'K')\n",
        "plt.show()\n",
        "\n",
        "print(\"American Call Price: %s\" %(Binomial(n, S, K, r, v, t, PutCall=\"C\")))"
      ],
      "execution_count": null,
      "outputs": [
        {
          "output_type": "display_data",
          "data": {
            "image/png": "[encoded data removed]",
            "text/plain": [
              "<Figure size 432x288 with 1 Axes>"
            ]
          },
          "metadata": {
            "tags": [],
            "needs_background": "light"
          }
        },
        {
          "output_type": "stream",
          "text": [
            "American Call Price: 16.40463895397694\n"
          ],
          "name": "stdout"
        }
      ]
    },
    {
      "cell_type": "code",
      "metadata": {
        "colab": {
          "base_uri": "https://localhost:8080/",
          "height": 313
        },
        "id": "-2zMAdboJHaQ",
        "outputId": "eb4b31b1-ac2d-473e-a2c7-254bb8e5ac4e"
      },
      "source": [
        "z = [-x + K - Binomial(n, S, K, r, v, t, \"P\") for x in range(K)] \n",
        "z += [-Binomial(n, S, K, r, v, t, \"P\")] * (K)\n",
        "\n",
        "plt.plot(range(2*K), z, color='red')\n",
        "plt.axis([0, 2*K, min(y) - 10, max(y) + 10])\n",
        "plt.xlabel('Underlying asset price')\n",
        "plt.ylabel('Profits')\n",
        "plt.axvline(x=K, linestyle='--', color='black')\n",
        "plt.axhline(y=0, linestyle=':', color='black')\n",
        "plt.title('American Put Option')\n",
        "plt.text(105, 0, 'K')\n",
        "plt.show()\n",
        "\n",
        "print(\"American Put Price: %s\" %(Binomial(n, S, K, r, v, t, PutCall=\"P\")))\n",
        "    "
      ],
      "execution_count": null,
      "outputs": [
        {
          "output_type": "display_data",
          "data": {
            "image/png": "[encoded data removed]",
            "text/plain": [
              "<Figure size 432x288 with 1 Axes>"
            ]
          },
          "metadata": {
            "tags": [],
            "needs_background": "light"
          }
        },
        {
          "output_type": "stream",
          "text": [
            "American Put Price: 16.217043453051907\n"
          ],
          "name": "stdout"
        }
      ]
    },
    {
      "cell_type": "code",
      "metadata": {
        "id": "OmyGE8dlJkxj"
      },
      "source": [
        ""
      ],
      "execution_count": null,
      "outputs": []
    }
  ]
}