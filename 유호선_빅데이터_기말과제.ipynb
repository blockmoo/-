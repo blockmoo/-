{
  "nbformat": 4,
  "nbformat_minor": 0,
  "metadata": {
    "colab": {
      "name": "유호선 빅데이터 기말과제.ipynb",
      "provenance": [],
      "collapsed_sections": [],
      "authorship_tag": "ABX9TyMidMtNDfwpMihZx7MigMMa",
      "include_colab_link": true
    },
    "kernelspec": {
      "name": "python3",
      "display_name": "Python 3"
    },
    "language_info": {
      "name": "python"
    }
  },
  "cells": [
    {
      "cell_type": "markdown",
      "metadata": {
        "id": "view-in-github",
        "colab_type": "text"
      },
      "source": [
        "<a href=\"https://colab.research.google.com/github/blockmoo/python_tutoring/blob/main/%EC%9C%A0%ED%98%B8%EC%84%A0_%EB%B9%85%EB%8D%B0%EC%9D%B4%ED%84%B0_%EA%B8%B0%EB%A7%90%EA%B3%BC%EC%A0%9C.ipynb\" target=\"_parent\"><img src=\"https://colab.research.google.com/assets/colab-badge.svg\" alt=\"Open In Colab\"/></a>"
      ]
    },
    {
      "cell_type": "code",
      "metadata": {
        "id": "Fsum0ewea6Ob"
      },
      "source": [
        "import numpy as np\n",
        "import pandas as pd\n",
        "import os\n",
        "import datetime as dt"
      ],
      "execution_count": null,
      "outputs": []
    },
    {
      "cell_type": "code",
      "metadata": {
        "colab": {
          "base_uri": "https://localhost:8080/",
          "height": 302
        },
        "id": "s11o1fjwa8Sc",
        "outputId": "cdd76cb2-1d88-40c0-b385-1beffef4c5cb"
      },
      "source": [
        "station = pd.read_csv(\"station.csv\", encoding=\"cp949\")\n",
        "station.head()\n",
        "station.rename(columns = {'대여소\\n번호' : '대여소번호', '설치\\n시기':'설치시기', '운영\\n방식':'운영방식'}, inplace = True)\n",
        "station.head()"
      ],
      "execution_count": null,
      "outputs": [
        {
          "output_type": "execute_result",
          "data": {
            "text/html": [
              "<div>\n",
              "<style scoped>\n",
              "    .dataframe tbody tr th:only-of-type {\n",
              "        vertical-align: middle;\n",
              "    }\n",
              "\n",
              "    .dataframe tbody tr th {\n",
              "        vertical-align: top;\n",
              "    }\n",
              "\n",
              "    .dataframe thead th {\n",
              "        text-align: right;\n",
              "    }\n",
              "</style>\n",
              "<table border=\"1\" class=\"dataframe\">\n",
              "  <thead>\n",
              "    <tr style=\"text-align: right;\">\n",
              "      <th></th>\n",
              "      <th>대여소번호</th>\n",
              "      <th>보관소(대여소)명</th>\n",
              "      <th>자치구</th>\n",
              "      <th>상세주소</th>\n",
              "      <th>위도</th>\n",
              "      <th>경도</th>\n",
              "      <th>설치시기</th>\n",
              "      <th>LCD</th>\n",
              "      <th>QR</th>\n",
              "      <th>운영방식</th>\n",
              "    </tr>\n",
              "  </thead>\n",
              "  <tbody>\n",
              "    <tr>\n",
              "      <th>0</th>\n",
              "      <td>301</td>\n",
              "      <td>경복궁역 7번출구 앞</td>\n",
              "      <td>종로구</td>\n",
              "      <td>서울특별시 종로구 사직로 지하130</td>\n",
              "      <td>37.575794</td>\n",
              "      <td>126.971451</td>\n",
              "      <td>2015-10-07</td>\n",
              "      <td>16.0</td>\n",
              "      <td>NaN</td>\n",
              "      <td>LCD</td>\n",
              "    </tr>\n",
              "    <tr>\n",
              "      <th>1</th>\n",
              "      <td>302</td>\n",
              "      <td>경복궁역 4번출구 뒤</td>\n",
              "      <td>종로구</td>\n",
              "      <td>서울특별시 종로구 사직로 지하130</td>\n",
              "      <td>37.575947</td>\n",
              "      <td>126.974060</td>\n",
              "      <td>2015-10-07</td>\n",
              "      <td>12.0</td>\n",
              "      <td>NaN</td>\n",
              "      <td>LCD</td>\n",
              "    </tr>\n",
              "    <tr>\n",
              "      <th>2</th>\n",
              "      <td>303</td>\n",
              "      <td>광화문역 1번출구 앞</td>\n",
              "      <td>종로구</td>\n",
              "      <td>서울특별시 종로구 세종대로 지하189</td>\n",
              "      <td>37.571770</td>\n",
              "      <td>126.974663</td>\n",
              "      <td>2015-10-07</td>\n",
              "      <td>8.0</td>\n",
              "      <td>NaN</td>\n",
              "      <td>LCD</td>\n",
              "    </tr>\n",
              "    <tr>\n",
              "      <th>3</th>\n",
              "      <td>304</td>\n",
              "      <td>광화문역 2번출구 앞</td>\n",
              "      <td>종로구</td>\n",
              "      <td>서울특별시 종로구 세종대로 지하172</td>\n",
              "      <td>37.572113</td>\n",
              "      <td>126.977577</td>\n",
              "      <td>2021-01-26</td>\n",
              "      <td>NaN</td>\n",
              "      <td>7.0</td>\n",
              "      <td>QR</td>\n",
              "    </tr>\n",
              "    <tr>\n",
              "      <th>4</th>\n",
              "      <td>305</td>\n",
              "      <td>종로구청 옆</td>\n",
              "      <td>종로구</td>\n",
              "      <td>서울특별시 종로구 삼봉로 43</td>\n",
              "      <td>37.572582</td>\n",
              "      <td>126.978355</td>\n",
              "      <td>2015-10-07</td>\n",
              "      <td>16.0</td>\n",
              "      <td>NaN</td>\n",
              "      <td>LCD</td>\n",
              "    </tr>\n",
              "  </tbody>\n",
              "</table>\n",
              "</div>"
            ],
            "text/plain": [
              "   대여소번호    보관소(대여소)명  자치구                  상세주소  ...        설치시기   LCD   QR  운영방식\n",
              "0    301  경복궁역 7번출구 앞  종로구   서울특별시 종로구 사직로 지하130  ...  2015-10-07  16.0  NaN   LCD\n",
              "1    302  경복궁역 4번출구 뒤  종로구   서울특별시 종로구 사직로 지하130  ...  2015-10-07  12.0  NaN   LCD\n",
              "2    303  광화문역 1번출구 앞  종로구  서울특별시 종로구 세종대로 지하189  ...  2015-10-07   8.0  NaN   LCD\n",
              "3    304  광화문역 2번출구 앞  종로구  서울특별시 종로구 세종대로 지하172  ...  2021-01-26   NaN  7.0    QR\n",
              "4    305       종로구청 옆  종로구      서울특별시 종로구 삼봉로 43  ...  2015-10-07  16.0  NaN   LCD\n",
              "\n",
              "[5 rows x 10 columns]"
            ]
          },
          "metadata": {
            "tags": []
          },
          "execution_count": 2
        }
      ]
    },
    {
      "cell_type": "code",
      "metadata": {
        "colab": {
          "base_uri": "https://localhost:8080/",
          "height": 202
        },
        "id": "kV7jqmP1a81M",
        "outputId": "0e85cd6e-cc1b-4250-ed8e-2da839e53584"
      },
      "source": [
        "bicycle_19 = pd.read_csv(\"bicycle_19.csv\", encoding=\"cp949\")\n",
        "bicycle_19.head()"
      ],
      "execution_count": null,
      "outputs": [
        {
          "output_type": "execute_result",
          "data": {
            "text/html": [
              "<div>\n",
              "<style scoped>\n",
              "    .dataframe tbody tr th:only-of-type {\n",
              "        vertical-align: middle;\n",
              "    }\n",
              "\n",
              "    .dataframe tbody tr th {\n",
              "        vertical-align: top;\n",
              "    }\n",
              "\n",
              "    .dataframe thead th {\n",
              "        text-align: right;\n",
              "    }\n",
              "</style>\n",
              "<table border=\"1\" class=\"dataframe\">\n",
              "  <thead>\n",
              "    <tr style=\"text-align: right;\">\n",
              "      <th></th>\n",
              "      <th>일시</th>\n",
              "      <th>대여소번호</th>\n",
              "      <th>대여소ID</th>\n",
              "      <th>거치수량</th>\n",
              "    </tr>\n",
              "  </thead>\n",
              "  <tbody>\n",
              "    <tr>\n",
              "      <th>0</th>\n",
              "      <td>2019-01-01 8:06</td>\n",
              "      <td>3</td>\n",
              "      <td>ST-48</td>\n",
              "      <td>46</td>\n",
              "    </tr>\n",
              "    <tr>\n",
              "      <th>1</th>\n",
              "      <td>2019-01-01 8:06</td>\n",
              "      <td>5</td>\n",
              "      <td>ST-74</td>\n",
              "      <td>70</td>\n",
              "    </tr>\n",
              "    <tr>\n",
              "      <th>2</th>\n",
              "      <td>2019-01-01 8:06</td>\n",
              "      <td>7</td>\n",
              "      <td>ST-982</td>\n",
              "      <td>84</td>\n",
              "    </tr>\n",
              "    <tr>\n",
              "      <th>3</th>\n",
              "      <td>2019-01-01 8:06</td>\n",
              "      <td>10</td>\n",
              "      <td>ST-484</td>\n",
              "      <td>15</td>\n",
              "    </tr>\n",
              "    <tr>\n",
              "      <th>4</th>\n",
              "      <td>2019-01-01 8:06</td>\n",
              "      <td>11</td>\n",
              "      <td>ST-598</td>\n",
              "      <td>2</td>\n",
              "    </tr>\n",
              "  </tbody>\n",
              "</table>\n",
              "</div>"
            ],
            "text/plain": [
              "                일시  대여소번호   대여소ID  거치수량\n",
              "0  2019-01-01 8:06      3   ST-48    46\n",
              "1  2019-01-01 8:06      5   ST-74    70\n",
              "2  2019-01-01 8:06      7  ST-982    84\n",
              "3  2019-01-01 8:06     10  ST-484    15\n",
              "4  2019-01-01 8:06     11  ST-598     2"
            ]
          },
          "metadata": {
            "tags": []
          },
          "execution_count": 12
        }
      ]
    },
    {
      "cell_type": "code",
      "metadata": {
        "colab": {
          "base_uri": "https://localhost:8080/",
          "height": 202
        },
        "id": "i6G_SG5Za83Q",
        "outputId": "afb4057b-4a12-457b-d3be-d95c437e7aa6"
      },
      "source": [
        "bicycle_20 = pd.read_csv(\"bicycle_20.csv\", encoding=\"cp949\")\n",
        "bicycle_20.head()"
      ],
      "execution_count": null,
      "outputs": [
        {
          "output_type": "execute_result",
          "data": {
            "text/html": [
              "<div>\n",
              "<style scoped>\n",
              "    .dataframe tbody tr th:only-of-type {\n",
              "        vertical-align: middle;\n",
              "    }\n",
              "\n",
              "    .dataframe tbody tr th {\n",
              "        vertical-align: top;\n",
              "    }\n",
              "\n",
              "    .dataframe thead th {\n",
              "        text-align: right;\n",
              "    }\n",
              "</style>\n",
              "<table border=\"1\" class=\"dataframe\">\n",
              "  <thead>\n",
              "    <tr style=\"text-align: right;\">\n",
              "      <th></th>\n",
              "      <th>일시</th>\n",
              "      <th>대여소번호</th>\n",
              "      <th>대여소ID</th>\n",
              "      <th>거치수량</th>\n",
              "    </tr>\n",
              "  </thead>\n",
              "  <tbody>\n",
              "    <tr>\n",
              "      <th>0</th>\n",
              "      <td>2020-01-01 8:00</td>\n",
              "      <td>7</td>\n",
              "      <td>ST-982</td>\n",
              "      <td>50</td>\n",
              "    </tr>\n",
              "    <tr>\n",
              "      <th>1</th>\n",
              "      <td>2020-01-01 8:00</td>\n",
              "      <td>10</td>\n",
              "      <td>ST-484</td>\n",
              "      <td>216</td>\n",
              "    </tr>\n",
              "    <tr>\n",
              "      <th>2</th>\n",
              "      <td>2020-01-01 8:00</td>\n",
              "      <td>11</td>\n",
              "      <td>ST-598</td>\n",
              "      <td>0</td>\n",
              "    </tr>\n",
              "    <tr>\n",
              "      <th>3</th>\n",
              "      <td>2020-01-01 8:00</td>\n",
              "      <td>101</td>\n",
              "      <td>ST-3</td>\n",
              "      <td>11</td>\n",
              "    </tr>\n",
              "    <tr>\n",
              "      <th>4</th>\n",
              "      <td>2020-01-01 8:00</td>\n",
              "      <td>102</td>\n",
              "      <td>ST-4</td>\n",
              "      <td>14</td>\n",
              "    </tr>\n",
              "  </tbody>\n",
              "</table>\n",
              "</div>"
            ],
            "text/plain": [
              "                일시  대여소번호   대여소ID  거치수량\n",
              "0  2020-01-01 8:00      7  ST-982    50\n",
              "1  2020-01-01 8:00     10  ST-484   216\n",
              "2  2020-01-01 8:00     11  ST-598     0\n",
              "3  2020-01-01 8:00    101    ST-3    11\n",
              "4  2020-01-01 8:00    102    ST-4    14"
            ]
          },
          "metadata": {
            "tags": []
          },
          "execution_count": 13
        }
      ]
    },
    {
      "cell_type": "code",
      "metadata": {
        "id": "uCZmvr11a88k"
      },
      "source": [
        "bicycle_19['일시'] = pd.to_datetime(bicycle_19['일시'])\n",
        "bicycle_20['일시'] = pd.to_datetime(bicycle_20['일시'])"
      ],
      "execution_count": null,
      "outputs": []
    },
    {
      "cell_type": "code",
      "metadata": {
        "colab": {
          "base_uri": "https://localhost:8080/",
          "height": 202
        },
        "id": "6UyodpRSa9CE",
        "outputId": "9af299da-0de2-44df-9746-d0e7f31fe80e"
      },
      "source": [
        "### 보류\n",
        "# 19년도 자료에 있는 8:06에 기록된 자료들 삭제\n",
        "def get_min(x):\n",
        "  return x.minute\n",
        "del_num = bicycle_19.일시.map(get_min) != 6   #map : 시리즈의 모든 원소에 동일한 fun적용할때 사용.\n",
        "bicycle_19[del_num].head()"
      ],
      "execution_count": null,
      "outputs": [
        {
          "output_type": "execute_result",
          "data": {
            "text/html": [
              "<div>\n",
              "<style scoped>\n",
              "    .dataframe tbody tr th:only-of-type {\n",
              "        vertical-align: middle;\n",
              "    }\n",
              "\n",
              "    .dataframe tbody tr th {\n",
              "        vertical-align: top;\n",
              "    }\n",
              "\n",
              "    .dataframe thead th {\n",
              "        text-align: right;\n",
              "    }\n",
              "</style>\n",
              "<table border=\"1\" class=\"dataframe\">\n",
              "  <thead>\n",
              "    <tr style=\"text-align: right;\">\n",
              "      <th></th>\n",
              "      <th>일시</th>\n",
              "      <th>대여소번호</th>\n",
              "      <th>대여소ID</th>\n",
              "      <th>거치수량</th>\n",
              "    </tr>\n",
              "  </thead>\n",
              "  <tbody>\n",
              "    <tr>\n",
              "      <th>158728</th>\n",
              "      <td>2019-04-16 08:00:00</td>\n",
              "      <td>10</td>\n",
              "      <td>ST-484</td>\n",
              "      <td>43</td>\n",
              "    </tr>\n",
              "    <tr>\n",
              "      <th>158729</th>\n",
              "      <td>2019-04-16 08:00:00</td>\n",
              "      <td>11</td>\n",
              "      <td>ST-598</td>\n",
              "      <td>0</td>\n",
              "    </tr>\n",
              "    <tr>\n",
              "      <th>158730</th>\n",
              "      <td>2019-04-16 08:00:00</td>\n",
              "      <td>101</td>\n",
              "      <td>ST-3</td>\n",
              "      <td>1</td>\n",
              "    </tr>\n",
              "    <tr>\n",
              "      <th>158731</th>\n",
              "      <td>2019-04-16 08:00:00</td>\n",
              "      <td>102</td>\n",
              "      <td>ST-4</td>\n",
              "      <td>9</td>\n",
              "    </tr>\n",
              "    <tr>\n",
              "      <th>158732</th>\n",
              "      <td>2019-04-16 08:00:00</td>\n",
              "      <td>103</td>\n",
              "      <td>ST-5</td>\n",
              "      <td>0</td>\n",
              "    </tr>\n",
              "  </tbody>\n",
              "</table>\n",
              "</div>"
            ],
            "text/plain": [
              "                        일시  대여소번호   대여소ID  거치수량\n",
              "158728 2019-04-16 08:00:00     10  ST-484    43\n",
              "158729 2019-04-16 08:00:00     11  ST-598     0\n",
              "158730 2019-04-16 08:00:00    101    ST-3     1\n",
              "158731 2019-04-16 08:00:00    102    ST-4     9\n",
              "158732 2019-04-16 08:00:00    103    ST-5     0"
            ]
          },
          "metadata": {
            "tags": []
          },
          "execution_count": 18
        }
      ]
    },
    {
      "cell_type": "code",
      "metadata": {
        "colab": {
          "base_uri": "https://localhost:8080/"
        },
        "id": "CsWV3f3w1_mm",
        "outputId": "b69dc5c8-cfbd-40f5-bd30-8fe861ead215"
      },
      "source": [
        "bicycle_20[\"대여소번호\"].nunique()  #2183"
      ],
      "execution_count": null,
      "outputs": [
        {
          "output_type": "execute_result",
          "data": {
            "text/plain": [
              "2183"
            ]
          },
          "metadata": {
            "tags": []
          },
          "execution_count": 16
        }
      ]
    },
    {
      "cell_type": "code",
      "metadata": {
        "colab": {
          "base_uri": "https://localhost:8080/"
        },
        "id": "T3T7AFMx3EP5",
        "outputId": "c87d30f6-9209-4d8f-b018-d52b6032fca3"
      },
      "source": [
        "bicycle_19[\"대여소번호\"].nunique()  #1570"
      ],
      "execution_count": null,
      "outputs": [
        {
          "output_type": "execute_result",
          "data": {
            "text/plain": [
              "1570"
            ]
          },
          "metadata": {
            "tags": []
          },
          "execution_count": 19
        }
      ]
    },
    {
      "cell_type": "markdown",
      "metadata": {
        "id": "rQbBYM1OpRT8"
      },
      "source": [
        "'19, 20년도 자전거 이용자수' 데이터에 '자전거 대여소 현황' 데이터를 붙여줌."
      ]
    },
    {
      "cell_type": "code",
      "metadata": {
        "colab": {
          "base_uri": "https://localhost:8080/",
          "height": 540
        },
        "id": "1UNJJm8Yjw5C",
        "outputId": "380993fe-3504-4fad-bf85-f0b68d6555c5"
      },
      "source": [
        "bic_19 = pd.merge(bicycle_19, station, left_on='대여소번호', right_on='대여소번호', how='left')\n",
        "bic_19.head(10)"
      ],
      "execution_count": null,
      "outputs": [
        {
          "output_type": "execute_result",
          "data": {
            "text/html": [
              "<div>\n",
              "<style scoped>\n",
              "    .dataframe tbody tr th:only-of-type {\n",
              "        vertical-align: middle;\n",
              "    }\n",
              "\n",
              "    .dataframe tbody tr th {\n",
              "        vertical-align: top;\n",
              "    }\n",
              "\n",
              "    .dataframe thead th {\n",
              "        text-align: right;\n",
              "    }\n",
              "</style>\n",
              "<table border=\"1\" class=\"dataframe\">\n",
              "  <thead>\n",
              "    <tr style=\"text-align: right;\">\n",
              "      <th></th>\n",
              "      <th>일시</th>\n",
              "      <th>대여소번호</th>\n",
              "      <th>대여소ID</th>\n",
              "      <th>거치수량</th>\n",
              "      <th>보관소(대여소)명</th>\n",
              "      <th>자치구</th>\n",
              "      <th>상세주소</th>\n",
              "      <th>위도</th>\n",
              "      <th>경도</th>\n",
              "      <th>설치시기</th>\n",
              "      <th>LCD</th>\n",
              "      <th>QR</th>\n",
              "      <th>운영방식</th>\n",
              "    </tr>\n",
              "  </thead>\n",
              "  <tbody>\n",
              "    <tr>\n",
              "      <th>0</th>\n",
              "      <td>2019-01-01 08:06:00</td>\n",
              "      <td>3</td>\n",
              "      <td>ST-48</td>\n",
              "      <td>46</td>\n",
              "      <td>NaN</td>\n",
              "      <td>NaN</td>\n",
              "      <td>NaN</td>\n",
              "      <td>NaN</td>\n",
              "      <td>NaN</td>\n",
              "      <td>NaN</td>\n",
              "      <td>NaN</td>\n",
              "      <td>NaN</td>\n",
              "      <td>NaN</td>\n",
              "    </tr>\n",
              "    <tr>\n",
              "      <th>1</th>\n",
              "      <td>2019-01-01 08:06:00</td>\n",
              "      <td>5</td>\n",
              "      <td>ST-74</td>\n",
              "      <td>70</td>\n",
              "      <td>NaN</td>\n",
              "      <td>NaN</td>\n",
              "      <td>NaN</td>\n",
              "      <td>NaN</td>\n",
              "      <td>NaN</td>\n",
              "      <td>NaN</td>\n",
              "      <td>NaN</td>\n",
              "      <td>NaN</td>\n",
              "      <td>NaN</td>\n",
              "    </tr>\n",
              "    <tr>\n",
              "      <th>2</th>\n",
              "      <td>2019-01-01 08:06:00</td>\n",
              "      <td>7</td>\n",
              "      <td>ST-982</td>\n",
              "      <td>84</td>\n",
              "      <td>NaN</td>\n",
              "      <td>NaN</td>\n",
              "      <td>NaN</td>\n",
              "      <td>NaN</td>\n",
              "      <td>NaN</td>\n",
              "      <td>NaN</td>\n",
              "      <td>NaN</td>\n",
              "      <td>NaN</td>\n",
              "      <td>NaN</td>\n",
              "    </tr>\n",
              "    <tr>\n",
              "      <th>3</th>\n",
              "      <td>2019-01-01 08:06:00</td>\n",
              "      <td>10</td>\n",
              "      <td>ST-484</td>\n",
              "      <td>15</td>\n",
              "      <td>NaN</td>\n",
              "      <td>NaN</td>\n",
              "      <td>NaN</td>\n",
              "      <td>NaN</td>\n",
              "      <td>NaN</td>\n",
              "      <td>NaN</td>\n",
              "      <td>NaN</td>\n",
              "      <td>NaN</td>\n",
              "      <td>NaN</td>\n",
              "    </tr>\n",
              "    <tr>\n",
              "      <th>4</th>\n",
              "      <td>2019-01-01 08:06:00</td>\n",
              "      <td>11</td>\n",
              "      <td>ST-598</td>\n",
              "      <td>2</td>\n",
              "      <td>NaN</td>\n",
              "      <td>NaN</td>\n",
              "      <td>NaN</td>\n",
              "      <td>NaN</td>\n",
              "      <td>NaN</td>\n",
              "      <td>NaN</td>\n",
              "      <td>NaN</td>\n",
              "      <td>NaN</td>\n",
              "      <td>NaN</td>\n",
              "    </tr>\n",
              "    <tr>\n",
              "      <th>5</th>\n",
              "      <td>2019-01-01 08:06:00</td>\n",
              "      <td>101</td>\n",
              "      <td>ST-3</td>\n",
              "      <td>7</td>\n",
              "      <td>(구)합정동 주민센터</td>\n",
              "      <td>마포구</td>\n",
              "      <td>서울특별시 마포구 동교로8길 58</td>\n",
              "      <td>37.549561</td>\n",
              "      <td>126.905754</td>\n",
              "      <td>2015-09-06</td>\n",
              "      <td>5.0</td>\n",
              "      <td>NaN</td>\n",
              "      <td>LCD</td>\n",
              "    </tr>\n",
              "    <tr>\n",
              "      <th>6</th>\n",
              "      <td>2019-01-01 08:06:00</td>\n",
              "      <td>102</td>\n",
              "      <td>ST-4</td>\n",
              "      <td>16</td>\n",
              "      <td>망원역 1번출구 앞</td>\n",
              "      <td>마포구</td>\n",
              "      <td>서울특별시 마포구 월드컵로 72</td>\n",
              "      <td>37.555649</td>\n",
              "      <td>126.910629</td>\n",
              "      <td>2015-09-06</td>\n",
              "      <td>20.0</td>\n",
              "      <td>NaN</td>\n",
              "      <td>LCD</td>\n",
              "    </tr>\n",
              "    <tr>\n",
              "      <th>7</th>\n",
              "      <td>2019-01-01 08:06:00</td>\n",
              "      <td>103</td>\n",
              "      <td>ST-5</td>\n",
              "      <td>9</td>\n",
              "      <td>망원역 2번출구 앞</td>\n",
              "      <td>마포구</td>\n",
              "      <td>서울특별시 마포구 월드컵로 79</td>\n",
              "      <td>37.554951</td>\n",
              "      <td>126.910835</td>\n",
              "      <td>2015-09-06</td>\n",
              "      <td>14.0</td>\n",
              "      <td>NaN</td>\n",
              "      <td>LCD</td>\n",
              "    </tr>\n",
              "    <tr>\n",
              "      <th>8</th>\n",
              "      <td>2019-01-01 08:06:00</td>\n",
              "      <td>104</td>\n",
              "      <td>ST-6</td>\n",
              "      <td>0</td>\n",
              "      <td>합정역 1번출구 앞</td>\n",
              "      <td>마포구</td>\n",
              "      <td>서울특별시 마포구 양화로 59</td>\n",
              "      <td>37.550629</td>\n",
              "      <td>126.914986</td>\n",
              "      <td>2015-09-06</td>\n",
              "      <td>13.0</td>\n",
              "      <td>NaN</td>\n",
              "      <td>LCD</td>\n",
              "    </tr>\n",
              "    <tr>\n",
              "      <th>9</th>\n",
              "      <td>2019-01-01 08:06:00</td>\n",
              "      <td>105</td>\n",
              "      <td>ST-7</td>\n",
              "      <td>7</td>\n",
              "      <td>합정역 5번출구 앞</td>\n",
              "      <td>마포구</td>\n",
              "      <td>서울특별시 마포구 양화로 48</td>\n",
              "      <td>37.550007</td>\n",
              "      <td>126.914825</td>\n",
              "      <td>2015-09-06</td>\n",
              "      <td>5.0</td>\n",
              "      <td>NaN</td>\n",
              "      <td>LCD</td>\n",
              "    </tr>\n",
              "  </tbody>\n",
              "</table>\n",
              "</div>"
            ],
            "text/plain": [
              "                   일시  대여소번호   대여소ID  거치수량  ...        설치시기   LCD  QR  운영방식\n",
              "0 2019-01-01 08:06:00      3   ST-48    46  ...         NaN   NaN NaN   NaN\n",
              "1 2019-01-01 08:06:00      5   ST-74    70  ...         NaN   NaN NaN   NaN\n",
              "2 2019-01-01 08:06:00      7  ST-982    84  ...         NaN   NaN NaN   NaN\n",
              "3 2019-01-01 08:06:00     10  ST-484    15  ...         NaN   NaN NaN   NaN\n",
              "4 2019-01-01 08:06:00     11  ST-598     2  ...         NaN   NaN NaN   NaN\n",
              "5 2019-01-01 08:06:00    101    ST-3     7  ...  2015-09-06   5.0 NaN   LCD\n",
              "6 2019-01-01 08:06:00    102    ST-4    16  ...  2015-09-06  20.0 NaN   LCD\n",
              "7 2019-01-01 08:06:00    103    ST-5     9  ...  2015-09-06  14.0 NaN   LCD\n",
              "8 2019-01-01 08:06:00    104    ST-6     0  ...  2015-09-06  13.0 NaN   LCD\n",
              "9 2019-01-01 08:06:00    105    ST-7     7  ...  2015-09-06   5.0 NaN   LCD\n",
              "\n",
              "[10 rows x 13 columns]"
            ]
          },
          "metadata": {
            "tags": []
          },
          "execution_count": 33
        }
      ]
    },
    {
      "cell_type": "code",
      "metadata": {
        "colab": {
          "base_uri": "https://localhost:8080/",
          "height": 540
        },
        "id": "_wIIJ5tGkKLi",
        "outputId": "edfdcf19-21cc-4e54-bcae-7b249b98e84b"
      },
      "source": [
        "bic_20 = pd.merge(bicycle_20, station, left_on='대여소번호', right_on='대여소번호', how='left')\n",
        "bic_20.head(10)"
      ],
      "execution_count": null,
      "outputs": [
        {
          "output_type": "execute_result",
          "data": {
            "text/html": [
              "<div>\n",
              "<style scoped>\n",
              "    .dataframe tbody tr th:only-of-type {\n",
              "        vertical-align: middle;\n",
              "    }\n",
              "\n",
              "    .dataframe tbody tr th {\n",
              "        vertical-align: top;\n",
              "    }\n",
              "\n",
              "    .dataframe thead th {\n",
              "        text-align: right;\n",
              "    }\n",
              "</style>\n",
              "<table border=\"1\" class=\"dataframe\">\n",
              "  <thead>\n",
              "    <tr style=\"text-align: right;\">\n",
              "      <th></th>\n",
              "      <th>일시</th>\n",
              "      <th>대여소번호</th>\n",
              "      <th>대여소ID</th>\n",
              "      <th>거치수량</th>\n",
              "      <th>보관소(대여소)명</th>\n",
              "      <th>자치구</th>\n",
              "      <th>상세주소</th>\n",
              "      <th>위도</th>\n",
              "      <th>경도</th>\n",
              "      <th>설치시기</th>\n",
              "      <th>LCD</th>\n",
              "      <th>QR</th>\n",
              "      <th>운영방식</th>\n",
              "    </tr>\n",
              "  </thead>\n",
              "  <tbody>\n",
              "    <tr>\n",
              "      <th>0</th>\n",
              "      <td>2020-01-01 08:00:00</td>\n",
              "      <td>7</td>\n",
              "      <td>ST-982</td>\n",
              "      <td>50</td>\n",
              "      <td>NaN</td>\n",
              "      <td>NaN</td>\n",
              "      <td>NaN</td>\n",
              "      <td>NaN</td>\n",
              "      <td>NaN</td>\n",
              "      <td>NaN</td>\n",
              "      <td>NaN</td>\n",
              "      <td>NaN</td>\n",
              "      <td>NaN</td>\n",
              "    </tr>\n",
              "    <tr>\n",
              "      <th>1</th>\n",
              "      <td>2020-01-01 08:00:00</td>\n",
              "      <td>10</td>\n",
              "      <td>ST-484</td>\n",
              "      <td>216</td>\n",
              "      <td>NaN</td>\n",
              "      <td>NaN</td>\n",
              "      <td>NaN</td>\n",
              "      <td>NaN</td>\n",
              "      <td>NaN</td>\n",
              "      <td>NaN</td>\n",
              "      <td>NaN</td>\n",
              "      <td>NaN</td>\n",
              "      <td>NaN</td>\n",
              "    </tr>\n",
              "    <tr>\n",
              "      <th>2</th>\n",
              "      <td>2020-01-01 08:00:00</td>\n",
              "      <td>11</td>\n",
              "      <td>ST-598</td>\n",
              "      <td>0</td>\n",
              "      <td>NaN</td>\n",
              "      <td>NaN</td>\n",
              "      <td>NaN</td>\n",
              "      <td>NaN</td>\n",
              "      <td>NaN</td>\n",
              "      <td>NaN</td>\n",
              "      <td>NaN</td>\n",
              "      <td>NaN</td>\n",
              "      <td>NaN</td>\n",
              "    </tr>\n",
              "    <tr>\n",
              "      <th>3</th>\n",
              "      <td>2020-01-01 08:00:00</td>\n",
              "      <td>101</td>\n",
              "      <td>ST-3</td>\n",
              "      <td>11</td>\n",
              "      <td>(구)합정동 주민센터</td>\n",
              "      <td>마포구</td>\n",
              "      <td>서울특별시 마포구 동교로8길 58</td>\n",
              "      <td>37.549561</td>\n",
              "      <td>126.905754</td>\n",
              "      <td>2015-09-06</td>\n",
              "      <td>5.0</td>\n",
              "      <td>NaN</td>\n",
              "      <td>LCD</td>\n",
              "    </tr>\n",
              "    <tr>\n",
              "      <th>4</th>\n",
              "      <td>2020-01-01 08:00:00</td>\n",
              "      <td>102</td>\n",
              "      <td>ST-4</td>\n",
              "      <td>14</td>\n",
              "      <td>망원역 1번출구 앞</td>\n",
              "      <td>마포구</td>\n",
              "      <td>서울특별시 마포구 월드컵로 72</td>\n",
              "      <td>37.555649</td>\n",
              "      <td>126.910629</td>\n",
              "      <td>2015-09-06</td>\n",
              "      <td>20.0</td>\n",
              "      <td>NaN</td>\n",
              "      <td>LCD</td>\n",
              "    </tr>\n",
              "    <tr>\n",
              "      <th>5</th>\n",
              "      <td>2020-01-01 08:00:00</td>\n",
              "      <td>103</td>\n",
              "      <td>ST-5</td>\n",
              "      <td>8</td>\n",
              "      <td>망원역 2번출구 앞</td>\n",
              "      <td>마포구</td>\n",
              "      <td>서울특별시 마포구 월드컵로 79</td>\n",
              "      <td>37.554951</td>\n",
              "      <td>126.910835</td>\n",
              "      <td>2015-09-06</td>\n",
              "      <td>14.0</td>\n",
              "      <td>NaN</td>\n",
              "      <td>LCD</td>\n",
              "    </tr>\n",
              "    <tr>\n",
              "      <th>6</th>\n",
              "      <td>2020-01-01 08:00:00</td>\n",
              "      <td>104</td>\n",
              "      <td>ST-6</td>\n",
              "      <td>0</td>\n",
              "      <td>합정역 1번출구 앞</td>\n",
              "      <td>마포구</td>\n",
              "      <td>서울특별시 마포구 양화로 59</td>\n",
              "      <td>37.550629</td>\n",
              "      <td>126.914986</td>\n",
              "      <td>2015-09-06</td>\n",
              "      <td>13.0</td>\n",
              "      <td>NaN</td>\n",
              "      <td>LCD</td>\n",
              "    </tr>\n",
              "    <tr>\n",
              "      <th>7</th>\n",
              "      <td>2020-01-01 08:00:00</td>\n",
              "      <td>105</td>\n",
              "      <td>ST-7</td>\n",
              "      <td>5</td>\n",
              "      <td>합정역 5번출구 앞</td>\n",
              "      <td>마포구</td>\n",
              "      <td>서울특별시 마포구 양화로 48</td>\n",
              "      <td>37.550007</td>\n",
              "      <td>126.914825</td>\n",
              "      <td>2015-09-06</td>\n",
              "      <td>5.0</td>\n",
              "      <td>NaN</td>\n",
              "      <td>LCD</td>\n",
              "    </tr>\n",
              "    <tr>\n",
              "      <th>8</th>\n",
              "      <td>2020-01-01 08:00:00</td>\n",
              "      <td>106</td>\n",
              "      <td>ST-8</td>\n",
              "      <td>6</td>\n",
              "      <td>합정역 7번출구 앞</td>\n",
              "      <td>마포구</td>\n",
              "      <td>서울특별시 마포구 독막로 4</td>\n",
              "      <td>37.548645</td>\n",
              "      <td>126.912827</td>\n",
              "      <td>2015-09-06</td>\n",
              "      <td>10.0</td>\n",
              "      <td>NaN</td>\n",
              "      <td>LCD</td>\n",
              "    </tr>\n",
              "    <tr>\n",
              "      <th>9</th>\n",
              "      <td>2020-01-01 08:00:00</td>\n",
              "      <td>107</td>\n",
              "      <td>ST-9</td>\n",
              "      <td>1</td>\n",
              "      <td>신한은행 서교동금융센터점 앞</td>\n",
              "      <td>마포구</td>\n",
              "      <td>서울특별시 마포구 월드컵북로 35</td>\n",
              "      <td>37.557510</td>\n",
              "      <td>126.918503</td>\n",
              "      <td>2015-09-06</td>\n",
              "      <td>5.0</td>\n",
              "      <td>NaN</td>\n",
              "      <td>LCD</td>\n",
              "    </tr>\n",
              "  </tbody>\n",
              "</table>\n",
              "</div>"
            ],
            "text/plain": [
              "                   일시  대여소번호   대여소ID  거치수량  ...        설치시기   LCD  QR  운영방식\n",
              "0 2020-01-01 08:00:00      7  ST-982    50  ...         NaN   NaN NaN   NaN\n",
              "1 2020-01-01 08:00:00     10  ST-484   216  ...         NaN   NaN NaN   NaN\n",
              "2 2020-01-01 08:00:00     11  ST-598     0  ...         NaN   NaN NaN   NaN\n",
              "3 2020-01-01 08:00:00    101    ST-3    11  ...  2015-09-06   5.0 NaN   LCD\n",
              "4 2020-01-01 08:00:00    102    ST-4    14  ...  2015-09-06  20.0 NaN   LCD\n",
              "5 2020-01-01 08:00:00    103    ST-5     8  ...  2015-09-06  14.0 NaN   LCD\n",
              "6 2020-01-01 08:00:00    104    ST-6     0  ...  2015-09-06  13.0 NaN   LCD\n",
              "7 2020-01-01 08:00:00    105    ST-7     5  ...  2015-09-06   5.0 NaN   LCD\n",
              "8 2020-01-01 08:00:00    106    ST-8     6  ...  2015-09-06  10.0 NaN   LCD\n",
              "9 2020-01-01 08:00:00    107    ST-9     1  ...  2015-09-06   5.0 NaN   LCD\n",
              "\n",
              "[10 rows x 13 columns]"
            ]
          },
          "metadata": {
            "tags": []
          },
          "execution_count": 34
        }
      ]
    },
    {
      "cell_type": "markdown",
      "metadata": {
        "id": "ZTU0PMR_pdTs"
      },
      "source": [
        "1. **지역구별 자전거 이용자수**"
      ]
    },
    {
      "cell_type": "code",
      "metadata": {
        "colab": {
          "base_uri": "https://localhost:8080/",
          "height": 302
        },
        "id": "wUHaLOSqo65d",
        "outputId": "526bf6c9-0cc2-4bd7-800e-d7d07fab15f8"
      },
      "source": [
        "bic_19_last = bic_19.loc[(bic_19.일시.dt.month == 12) & (bic_19.일시.dt.day == 31)]\n",
        "bic_19_last.head()"
      ],
      "execution_count": null,
      "outputs": [
        {
          "output_type": "execute_result",
          "data": {
            "text/html": [
              "<div>\n",
              "<style scoped>\n",
              "    .dataframe tbody tr th:only-of-type {\n",
              "        vertical-align: middle;\n",
              "    }\n",
              "\n",
              "    .dataframe tbody tr th {\n",
              "        vertical-align: top;\n",
              "    }\n",
              "\n",
              "    .dataframe thead th {\n",
              "        text-align: right;\n",
              "    }\n",
              "</style>\n",
              "<table border=\"1\" class=\"dataframe\">\n",
              "  <thead>\n",
              "    <tr style=\"text-align: right;\">\n",
              "      <th></th>\n",
              "      <th>일시</th>\n",
              "      <th>대여소번호</th>\n",
              "      <th>대여소ID</th>\n",
              "      <th>거치수량</th>\n",
              "      <th>보관소(대여소)명</th>\n",
              "      <th>자치구</th>\n",
              "      <th>상세주소</th>\n",
              "      <th>위도</th>\n",
              "      <th>경도</th>\n",
              "      <th>설치시기</th>\n",
              "      <th>LCD</th>\n",
              "      <th>QR</th>\n",
              "      <th>운영방식</th>\n",
              "    </tr>\n",
              "  </thead>\n",
              "  <tbody>\n",
              "    <tr>\n",
              "      <th>697047</th>\n",
              "      <td>2019-12-31 08:00:00</td>\n",
              "      <td>7</td>\n",
              "      <td>ST-982</td>\n",
              "      <td>50</td>\n",
              "      <td>NaN</td>\n",
              "      <td>NaN</td>\n",
              "      <td>NaN</td>\n",
              "      <td>NaN</td>\n",
              "      <td>NaN</td>\n",
              "      <td>NaN</td>\n",
              "      <td>NaN</td>\n",
              "      <td>NaN</td>\n",
              "      <td>NaN</td>\n",
              "    </tr>\n",
              "    <tr>\n",
              "      <th>697048</th>\n",
              "      <td>2019-12-31 08:00:00</td>\n",
              "      <td>10</td>\n",
              "      <td>ST-484</td>\n",
              "      <td>284</td>\n",
              "      <td>NaN</td>\n",
              "      <td>NaN</td>\n",
              "      <td>NaN</td>\n",
              "      <td>NaN</td>\n",
              "      <td>NaN</td>\n",
              "      <td>NaN</td>\n",
              "      <td>NaN</td>\n",
              "      <td>NaN</td>\n",
              "      <td>NaN</td>\n",
              "    </tr>\n",
              "    <tr>\n",
              "      <th>697049</th>\n",
              "      <td>2019-12-31 08:00:00</td>\n",
              "      <td>11</td>\n",
              "      <td>ST-598</td>\n",
              "      <td>0</td>\n",
              "      <td>NaN</td>\n",
              "      <td>NaN</td>\n",
              "      <td>NaN</td>\n",
              "      <td>NaN</td>\n",
              "      <td>NaN</td>\n",
              "      <td>NaN</td>\n",
              "      <td>NaN</td>\n",
              "      <td>NaN</td>\n",
              "      <td>NaN</td>\n",
              "    </tr>\n",
              "    <tr>\n",
              "      <th>697050</th>\n",
              "      <td>2019-12-31 08:00:00</td>\n",
              "      <td>101</td>\n",
              "      <td>ST-3</td>\n",
              "      <td>8</td>\n",
              "      <td>(구)합정동 주민센터</td>\n",
              "      <td>마포구</td>\n",
              "      <td>서울특별시 마포구 동교로8길 58</td>\n",
              "      <td>37.549561</td>\n",
              "      <td>126.905754</td>\n",
              "      <td>2015-09-06</td>\n",
              "      <td>5.0</td>\n",
              "      <td>NaN</td>\n",
              "      <td>LCD</td>\n",
              "    </tr>\n",
              "    <tr>\n",
              "      <th>697051</th>\n",
              "      <td>2019-12-31 08:00:00</td>\n",
              "      <td>102</td>\n",
              "      <td>ST-4</td>\n",
              "      <td>9</td>\n",
              "      <td>망원역 1번출구 앞</td>\n",
              "      <td>마포구</td>\n",
              "      <td>서울특별시 마포구 월드컵로 72</td>\n",
              "      <td>37.555649</td>\n",
              "      <td>126.910629</td>\n",
              "      <td>2015-09-06</td>\n",
              "      <td>20.0</td>\n",
              "      <td>NaN</td>\n",
              "      <td>LCD</td>\n",
              "    </tr>\n",
              "  </tbody>\n",
              "</table>\n",
              "</div>"
            ],
            "text/plain": [
              "                        일시  대여소번호   대여소ID  거치수량  ...        설치시기   LCD  QR  운영방식\n",
              "697047 2019-12-31 08:00:00      7  ST-982    50  ...         NaN   NaN NaN   NaN\n",
              "697048 2019-12-31 08:00:00     10  ST-484   284  ...         NaN   NaN NaN   NaN\n",
              "697049 2019-12-31 08:00:00     11  ST-598     0  ...         NaN   NaN NaN   NaN\n",
              "697050 2019-12-31 08:00:00    101    ST-3     8  ...  2015-09-06   5.0 NaN   LCD\n",
              "697051 2019-12-31 08:00:00    102    ST-4     9  ...  2015-09-06  20.0 NaN   LCD\n",
              "\n",
              "[5 rows x 13 columns]"
            ]
          },
          "metadata": {
            "tags": []
          },
          "execution_count": 42
        }
      ]
    },
    {
      "cell_type": "code",
      "metadata": {
        "colab": {
          "base_uri": "https://localhost:8080/",
          "height": 302
        },
        "id": "kGaGcBdRkl6a",
        "outputId": "cb3beddb-01b1-4185-b252-adc66a4d3611"
      },
      "source": [
        "bic_20_last = bic_20.loc[(bic_20.일시.dt.month == 12) & (bic_20.일시.dt.day == 31)]\n",
        "bic_20_last.head()"
      ],
      "execution_count": null,
      "outputs": [
        {
          "output_type": "execute_result",
          "data": {
            "text/html": [
              "<div>\n",
              "<style scoped>\n",
              "    .dataframe tbody tr th:only-of-type {\n",
              "        vertical-align: middle;\n",
              "    }\n",
              "\n",
              "    .dataframe tbody tr th {\n",
              "        vertical-align: top;\n",
              "    }\n",
              "\n",
              "    .dataframe thead th {\n",
              "        text-align: right;\n",
              "    }\n",
              "</style>\n",
              "<table border=\"1\" class=\"dataframe\">\n",
              "  <thead>\n",
              "    <tr style=\"text-align: right;\">\n",
              "      <th></th>\n",
              "      <th>일시</th>\n",
              "      <th>대여소번호</th>\n",
              "      <th>대여소ID</th>\n",
              "      <th>거치수량</th>\n",
              "      <th>보관소(대여소)명</th>\n",
              "      <th>자치구</th>\n",
              "      <th>상세주소</th>\n",
              "      <th>위도</th>\n",
              "      <th>경도</th>\n",
              "      <th>설치시기</th>\n",
              "      <th>LCD</th>\n",
              "      <th>QR</th>\n",
              "      <th>운영방식</th>\n",
              "    </tr>\n",
              "  </thead>\n",
              "  <tbody>\n",
              "    <tr>\n",
              "      <th>632898</th>\n",
              "      <td>2020-12-31 08:00:00</td>\n",
              "      <td>10</td>\n",
              "      <td>ST-484</td>\n",
              "      <td>201</td>\n",
              "      <td>NaN</td>\n",
              "      <td>NaN</td>\n",
              "      <td>NaN</td>\n",
              "      <td>NaN</td>\n",
              "      <td>NaN</td>\n",
              "      <td>NaN</td>\n",
              "      <td>NaN</td>\n",
              "      <td>NaN</td>\n",
              "      <td>NaN</td>\n",
              "    </tr>\n",
              "    <tr>\n",
              "      <th>632899</th>\n",
              "      <td>2020-12-31 08:00:00</td>\n",
              "      <td>11</td>\n",
              "      <td>ST-598</td>\n",
              "      <td>0</td>\n",
              "      <td>NaN</td>\n",
              "      <td>NaN</td>\n",
              "      <td>NaN</td>\n",
              "      <td>NaN</td>\n",
              "      <td>NaN</td>\n",
              "      <td>NaN</td>\n",
              "      <td>NaN</td>\n",
              "      <td>NaN</td>\n",
              "      <td>NaN</td>\n",
              "    </tr>\n",
              "    <tr>\n",
              "      <th>632900</th>\n",
              "      <td>2020-12-31 08:00:00</td>\n",
              "      <td>101</td>\n",
              "      <td>ST-3</td>\n",
              "      <td>0</td>\n",
              "      <td>(구)합정동 주민센터</td>\n",
              "      <td>마포구</td>\n",
              "      <td>서울특별시 마포구 동교로8길 58</td>\n",
              "      <td>37.549561</td>\n",
              "      <td>126.905754</td>\n",
              "      <td>2015-09-06</td>\n",
              "      <td>5.0</td>\n",
              "      <td>NaN</td>\n",
              "      <td>LCD</td>\n",
              "    </tr>\n",
              "    <tr>\n",
              "      <th>632901</th>\n",
              "      <td>2020-12-31 08:00:00</td>\n",
              "      <td>102</td>\n",
              "      <td>ST-4</td>\n",
              "      <td>2</td>\n",
              "      <td>망원역 1번출구 앞</td>\n",
              "      <td>마포구</td>\n",
              "      <td>서울특별시 마포구 월드컵로 72</td>\n",
              "      <td>37.555649</td>\n",
              "      <td>126.910629</td>\n",
              "      <td>2015-09-06</td>\n",
              "      <td>20.0</td>\n",
              "      <td>NaN</td>\n",
              "      <td>LCD</td>\n",
              "    </tr>\n",
              "    <tr>\n",
              "      <th>632902</th>\n",
              "      <td>2020-12-31 08:00:00</td>\n",
              "      <td>103</td>\n",
              "      <td>ST-5</td>\n",
              "      <td>0</td>\n",
              "      <td>망원역 2번출구 앞</td>\n",
              "      <td>마포구</td>\n",
              "      <td>서울특별시 마포구 월드컵로 79</td>\n",
              "      <td>37.554951</td>\n",
              "      <td>126.910835</td>\n",
              "      <td>2015-09-06</td>\n",
              "      <td>14.0</td>\n",
              "      <td>NaN</td>\n",
              "      <td>LCD</td>\n",
              "    </tr>\n",
              "  </tbody>\n",
              "</table>\n",
              "</div>"
            ],
            "text/plain": [
              "                        일시  대여소번호   대여소ID  거치수량  ...        설치시기   LCD  QR  운영방식\n",
              "632898 2020-12-31 08:00:00     10  ST-484   201  ...         NaN   NaN NaN   NaN\n",
              "632899 2020-12-31 08:00:00     11  ST-598     0  ...         NaN   NaN NaN   NaN\n",
              "632900 2020-12-31 08:00:00    101    ST-3     0  ...  2015-09-06   5.0 NaN   LCD\n",
              "632901 2020-12-31 08:00:00    102    ST-4     2  ...  2015-09-06  20.0 NaN   LCD\n",
              "632902 2020-12-31 08:00:00    103    ST-5     0  ...  2015-09-06  14.0 NaN   LCD\n",
              "\n",
              "[5 rows x 13 columns]"
            ]
          },
          "metadata": {
            "tags": []
          },
          "execution_count": 44
        }
      ]
    },
    {
      "cell_type": "code",
      "metadata": {
        "id": "FrMFs4cGw2ti"
      },
      "source": [
        ""
      ],
      "execution_count": null,
      "outputs": []
    },
    {
      "cell_type": "code",
      "metadata": {
        "id": "q3hG36Uqw2wM"
      },
      "source": [
        ""
      ],
      "execution_count": null,
      "outputs": []
    },
    {
      "cell_type": "markdown",
      "metadata": {
        "id": "ePxMbr3Iw3G2"
      },
      "source": [
        "**이용건수 이용한 데이터 분석**"
      ]
    },
    {
      "cell_type": "code",
      "metadata": {
        "colab": {
          "base_uri": "https://localhost:8080/",
          "height": 302
        },
        "id": "e4MexyqQmJdg",
        "outputId": "7c76f211-d0a4-451e-82fb-e221e5690734"
      },
      "source": [
        "dt19 = pd.read_csv(\"2019_12.csv\", encoding=\"cp949\")\n",
        "dt19.head()"
      ],
      "execution_count": null,
      "outputs": [
        {
          "output_type": "execute_result",
          "data": {
            "text/html": [
              "<div>\n",
              "<style scoped>\n",
              "    .dataframe tbody tr th:only-of-type {\n",
              "        vertical-align: middle;\n",
              "    }\n",
              "\n",
              "    .dataframe tbody tr th {\n",
              "        vertical-align: top;\n",
              "    }\n",
              "\n",
              "    .dataframe thead th {\n",
              "        text-align: right;\n",
              "    }\n",
              "</style>\n",
              "<table border=\"1\" class=\"dataframe\">\n",
              "  <thead>\n",
              "    <tr style=\"text-align: right;\">\n",
              "      <th></th>\n",
              "      <th>대여일자</th>\n",
              "      <th>대여소번호</th>\n",
              "      <th>대여소</th>\n",
              "      <th>대여구분코드</th>\n",
              "      <th>성별</th>\n",
              "      <th>연령대코드</th>\n",
              "      <th>이용건수</th>\n",
              "      <th>운동량</th>\n",
              "      <th>탄소량</th>\n",
              "      <th>이동거리(M)</th>\n",
              "      <th>이용시간(분)</th>\n",
              "    </tr>\n",
              "  </thead>\n",
              "  <tbody>\n",
              "    <tr>\n",
              "      <th>0</th>\n",
              "      <td>2019-12-01</td>\n",
              "      <td>101</td>\n",
              "      <td>101. (구)합정동 주민센터</td>\n",
              "      <td>정기</td>\n",
              "      <td>\\N</td>\n",
              "      <td>AGE_002</td>\n",
              "      <td>1.0</td>\n",
              "      <td>24.97</td>\n",
              "      <td>0.23</td>\n",
              "      <td>970.0</td>\n",
              "      <td>5.0</td>\n",
              "    </tr>\n",
              "    <tr>\n",
              "      <th>1</th>\n",
              "      <td>2019-12-01</td>\n",
              "      <td>101</td>\n",
              "      <td>101. (구)합정동 주민센터</td>\n",
              "      <td>정기</td>\n",
              "      <td>\\N</td>\n",
              "      <td>AGE_003</td>\n",
              "      <td>2.0</td>\n",
              "      <td>298.99</td>\n",
              "      <td>2.66</td>\n",
              "      <td>11440.0</td>\n",
              "      <td>61.0</td>\n",
              "    </tr>\n",
              "    <tr>\n",
              "      <th>2</th>\n",
              "      <td>2019-12-01</td>\n",
              "      <td>101</td>\n",
              "      <td>101. (구)합정동 주민센터</td>\n",
              "      <td>정기</td>\n",
              "      <td>\\N</td>\n",
              "      <td>AGE_005</td>\n",
              "      <td>1.0</td>\n",
              "      <td>49.73</td>\n",
              "      <td>0.37</td>\n",
              "      <td>1610.0</td>\n",
              "      <td>14.0</td>\n",
              "    </tr>\n",
              "    <tr>\n",
              "      <th>3</th>\n",
              "      <td>2019-12-01</td>\n",
              "      <td>101</td>\n",
              "      <td>101. (구)합정동 주민센터</td>\n",
              "      <td>정기</td>\n",
              "      <td>NaN</td>\n",
              "      <td>AGE_002</td>\n",
              "      <td>1.0</td>\n",
              "      <td>19.19</td>\n",
              "      <td>0.2</td>\n",
              "      <td>850.0</td>\n",
              "      <td>5.0</td>\n",
              "    </tr>\n",
              "    <tr>\n",
              "      <th>4</th>\n",
              "      <td>2019-12-01</td>\n",
              "      <td>101</td>\n",
              "      <td>101. (구)합정동 주민센터</td>\n",
              "      <td>정기</td>\n",
              "      <td>F</td>\n",
              "      <td>AGE_004</td>\n",
              "      <td>1.0</td>\n",
              "      <td>26.87</td>\n",
              "      <td>0.27</td>\n",
              "      <td>1170.0</td>\n",
              "      <td>8.0</td>\n",
              "    </tr>\n",
              "  </tbody>\n",
              "</table>\n",
              "</div>"
            ],
            "text/plain": [
              "         대여일자  대여소번호               대여소 대여구분코드  ...     운동량   탄소량  이동거리(M) 이용시간(분)\n",
              "0  2019-12-01    101  101. (구)합정동 주민센터     정기  ...   24.97  0.23    970.0     5.0\n",
              "1  2019-12-01    101  101. (구)합정동 주민센터     정기  ...  298.99  2.66  11440.0    61.0\n",
              "2  2019-12-01    101  101. (구)합정동 주민센터     정기  ...   49.73  0.37   1610.0    14.0\n",
              "3  2019-12-01    101  101. (구)합정동 주민센터     정기  ...   19.19   0.2    850.0     5.0\n",
              "4  2019-12-01    101  101. (구)합정동 주민센터     정기  ...   26.87  0.27   1170.0     8.0\n",
              "\n",
              "[5 rows x 11 columns]"
            ]
          },
          "metadata": {
            "tags": []
          },
          "execution_count": 3
        }
      ]
    },
    {
      "cell_type": "code",
      "metadata": {
        "id": "isCcFm2As-ek",
        "colab": {
          "base_uri": "https://localhost:8080/",
          "height": 506
        },
        "outputId": "88d3a0cf-8c1c-4081-9fc1-955748bddc6e"
      },
      "source": [
        "dt20 = pd.read_csv(\"2020_07_12.csv\", encoding=\"cp949\")\n",
        "dt20.head()"
      ],
      "execution_count": null,
      "outputs": [
        {
          "output_type": "error",
          "ename": "ParserError",
          "evalue": "ignored",
          "traceback": [
            "\u001b[0;31m---------------------------------------------------------------------------\u001b[0m",
            "\u001b[0;31mParserError\u001b[0m                               Traceback (most recent call last)",
            "\u001b[0;32m<ipython-input-5-9aa707c9750b>\u001b[0m in \u001b[0;36m<module>\u001b[0;34m()\u001b[0m\n\u001b[0;32m----> 1\u001b[0;31m \u001b[0mdt20\u001b[0m \u001b[0;34m=\u001b[0m \u001b[0mpd\u001b[0m\u001b[0;34m.\u001b[0m\u001b[0mread_csv\u001b[0m\u001b[0;34m(\u001b[0m\u001b[0;34m\"2020_07_12.csv\"\u001b[0m\u001b[0;34m,\u001b[0m \u001b[0mencoding\u001b[0m\u001b[0;34m=\u001b[0m\u001b[0;34m\"cp949\"\u001b[0m\u001b[0;34m)\u001b[0m\u001b[0;34m\u001b[0m\u001b[0;34m\u001b[0m\u001b[0m\n\u001b[0m\u001b[1;32m      2\u001b[0m \u001b[0mdt20\u001b[0m\u001b[0;34m.\u001b[0m\u001b[0mhead\u001b[0m\u001b[0;34m(\u001b[0m\u001b[0;34m)\u001b[0m\u001b[0;34m\u001b[0m\u001b[0;34m\u001b[0m\u001b[0m\n",
            "\u001b[0;32m/usr/local/lib/python3.7/dist-packages/pandas/io/parsers.py\u001b[0m in \u001b[0;36mread_csv\u001b[0;34m(filepath_or_buffer, sep, delimiter, header, names, index_col, usecols, squeeze, prefix, mangle_dupe_cols, dtype, engine, converters, true_values, false_values, skipinitialspace, skiprows, skipfooter, nrows, na_values, keep_default_na, na_filter, verbose, skip_blank_lines, parse_dates, infer_datetime_format, keep_date_col, date_parser, dayfirst, cache_dates, iterator, chunksize, compression, thousands, decimal, lineterminator, quotechar, quoting, doublequote, escapechar, comment, encoding, dialect, error_bad_lines, warn_bad_lines, delim_whitespace, low_memory, memory_map, float_precision)\u001b[0m\n\u001b[1;32m    686\u001b[0m     )\n\u001b[1;32m    687\u001b[0m \u001b[0;34m\u001b[0m\u001b[0m\n\u001b[0;32m--> 688\u001b[0;31m     \u001b[0;32mreturn\u001b[0m \u001b[0m_read\u001b[0m\u001b[0;34m(\u001b[0m\u001b[0mfilepath_or_buffer\u001b[0m\u001b[0;34m,\u001b[0m \u001b[0mkwds\u001b[0m\u001b[0;34m)\u001b[0m\u001b[0;34m\u001b[0m\u001b[0;34m\u001b[0m\u001b[0m\n\u001b[0m\u001b[1;32m    689\u001b[0m \u001b[0;34m\u001b[0m\u001b[0m\n\u001b[1;32m    690\u001b[0m \u001b[0;34m\u001b[0m\u001b[0m\n",
            "\u001b[0;32m/usr/local/lib/python3.7/dist-packages/pandas/io/parsers.py\u001b[0m in \u001b[0;36m_read\u001b[0;34m(filepath_or_buffer, kwds)\u001b[0m\n\u001b[1;32m    458\u001b[0m \u001b[0;34m\u001b[0m\u001b[0m\n\u001b[1;32m    459\u001b[0m     \u001b[0;32mtry\u001b[0m\u001b[0;34m:\u001b[0m\u001b[0;34m\u001b[0m\u001b[0;34m\u001b[0m\u001b[0m\n\u001b[0;32m--> 460\u001b[0;31m         \u001b[0mdata\u001b[0m \u001b[0;34m=\u001b[0m \u001b[0mparser\u001b[0m\u001b[0;34m.\u001b[0m\u001b[0mread\u001b[0m\u001b[0;34m(\u001b[0m\u001b[0mnrows\u001b[0m\u001b[0;34m)\u001b[0m\u001b[0;34m\u001b[0m\u001b[0;34m\u001b[0m\u001b[0m\n\u001b[0m\u001b[1;32m    461\u001b[0m     \u001b[0;32mfinally\u001b[0m\u001b[0;34m:\u001b[0m\u001b[0;34m\u001b[0m\u001b[0;34m\u001b[0m\u001b[0m\n\u001b[1;32m    462\u001b[0m         \u001b[0mparser\u001b[0m\u001b[0;34m.\u001b[0m\u001b[0mclose\u001b[0m\u001b[0;34m(\u001b[0m\u001b[0;34m)\u001b[0m\u001b[0;34m\u001b[0m\u001b[0;34m\u001b[0m\u001b[0m\n",
            "\u001b[0;32m/usr/local/lib/python3.7/dist-packages/pandas/io/parsers.py\u001b[0m in \u001b[0;36mread\u001b[0;34m(self, nrows)\u001b[0m\n\u001b[1;32m   1196\u001b[0m     \u001b[0;32mdef\u001b[0m \u001b[0mread\u001b[0m\u001b[0;34m(\u001b[0m\u001b[0mself\u001b[0m\u001b[0;34m,\u001b[0m \u001b[0mnrows\u001b[0m\u001b[0;34m=\u001b[0m\u001b[0;32mNone\u001b[0m\u001b[0;34m)\u001b[0m\u001b[0;34m:\u001b[0m\u001b[0;34m\u001b[0m\u001b[0;34m\u001b[0m\u001b[0m\n\u001b[1;32m   1197\u001b[0m         \u001b[0mnrows\u001b[0m \u001b[0;34m=\u001b[0m \u001b[0m_validate_integer\u001b[0m\u001b[0;34m(\u001b[0m\u001b[0;34m\"nrows\"\u001b[0m\u001b[0;34m,\u001b[0m \u001b[0mnrows\u001b[0m\u001b[0;34m)\u001b[0m\u001b[0;34m\u001b[0m\u001b[0;34m\u001b[0m\u001b[0m\n\u001b[0;32m-> 1198\u001b[0;31m         \u001b[0mret\u001b[0m \u001b[0;34m=\u001b[0m \u001b[0mself\u001b[0m\u001b[0;34m.\u001b[0m\u001b[0m_engine\u001b[0m\u001b[0;34m.\u001b[0m\u001b[0mread\u001b[0m\u001b[0;34m(\u001b[0m\u001b[0mnrows\u001b[0m\u001b[0;34m)\u001b[0m\u001b[0;34m\u001b[0m\u001b[0;34m\u001b[0m\u001b[0m\n\u001b[0m\u001b[1;32m   1199\u001b[0m \u001b[0;34m\u001b[0m\u001b[0m\n\u001b[1;32m   1200\u001b[0m         \u001b[0;31m# May alter columns / col_dict\u001b[0m\u001b[0;34m\u001b[0m\u001b[0;34m\u001b[0m\u001b[0;34m\u001b[0m\u001b[0m\n",
            "\u001b[0;32m/usr/local/lib/python3.7/dist-packages/pandas/io/parsers.py\u001b[0m in \u001b[0;36mread\u001b[0;34m(self, nrows)\u001b[0m\n\u001b[1;32m   2155\u001b[0m     \u001b[0;32mdef\u001b[0m \u001b[0mread\u001b[0m\u001b[0;34m(\u001b[0m\u001b[0mself\u001b[0m\u001b[0;34m,\u001b[0m \u001b[0mnrows\u001b[0m\u001b[0;34m=\u001b[0m\u001b[0;32mNone\u001b[0m\u001b[0;34m)\u001b[0m\u001b[0;34m:\u001b[0m\u001b[0;34m\u001b[0m\u001b[0;34m\u001b[0m\u001b[0m\n\u001b[1;32m   2156\u001b[0m         \u001b[0;32mtry\u001b[0m\u001b[0;34m:\u001b[0m\u001b[0;34m\u001b[0m\u001b[0;34m\u001b[0m\u001b[0m\n\u001b[0;32m-> 2157\u001b[0;31m             \u001b[0mdata\u001b[0m \u001b[0;34m=\u001b[0m \u001b[0mself\u001b[0m\u001b[0;34m.\u001b[0m\u001b[0m_reader\u001b[0m\u001b[0;34m.\u001b[0m\u001b[0mread\u001b[0m\u001b[0;34m(\u001b[0m\u001b[0mnrows\u001b[0m\u001b[0;34m)\u001b[0m\u001b[0;34m\u001b[0m\u001b[0;34m\u001b[0m\u001b[0m\n\u001b[0m\u001b[1;32m   2158\u001b[0m         \u001b[0;32mexcept\u001b[0m \u001b[0mStopIteration\u001b[0m\u001b[0;34m:\u001b[0m\u001b[0;34m\u001b[0m\u001b[0;34m\u001b[0m\u001b[0m\n\u001b[1;32m   2159\u001b[0m             \u001b[0;32mif\u001b[0m \u001b[0mself\u001b[0m\u001b[0;34m.\u001b[0m\u001b[0m_first_chunk\u001b[0m\u001b[0;34m:\u001b[0m\u001b[0;34m\u001b[0m\u001b[0;34m\u001b[0m\u001b[0m\n",
            "\u001b[0;32mpandas/_libs/parsers.pyx\u001b[0m in \u001b[0;36mpandas._libs.parsers.TextReader.read\u001b[0;34m()\u001b[0m\n",
            "\u001b[0;32mpandas/_libs/parsers.pyx\u001b[0m in \u001b[0;36mpandas._libs.parsers.TextReader._read_low_memory\u001b[0;34m()\u001b[0m\n",
            "\u001b[0;32mpandas/_libs/parsers.pyx\u001b[0m in \u001b[0;36mpandas._libs.parsers.TextReader._read_rows\u001b[0;34m()\u001b[0m\n",
            "\u001b[0;32mpandas/_libs/parsers.pyx\u001b[0m in \u001b[0;36mpandas._libs.parsers.TextReader._tokenize_rows\u001b[0;34m()\u001b[0m\n",
            "\u001b[0;32mpandas/_libs/parsers.pyx\u001b[0m in \u001b[0;36mpandas._libs.parsers.raise_parser_error\u001b[0;34m()\u001b[0m\n",
            "\u001b[0;31mParserError\u001b[0m: Error tokenizing data. C error: EOF inside string starting at row 375040"
          ]
        }
      ]
    },
    {
      "cell_type": "markdown",
      "metadata": {
        "id": "ADIdCKhIxKcN"
      },
      "source": [
        "대여일자를 datetime형으로 형변환시킨 뒤, 필요한 열만 추출한다."
      ]
    },
    {
      "cell_type": "code",
      "metadata": {
        "id": "3S1aeGrlttF0",
        "colab": {
          "base_uri": "https://localhost:8080/",
          "height": 185
        },
        "outputId": "9f3ad204-3e0a-44fa-8113-e68c4fc4cb64"
      },
      "source": [
        "dt19.대여일자 = pd.to_datetime(dt19.대여일자)\n",
        "dt20.대여일자 = pd.to_datetime(dt20.대여일자)"
      ],
      "execution_count": null,
      "outputs": [
        {
          "output_type": "error",
          "ename": "NameError",
          "evalue": "ignored",
          "traceback": [
            "\u001b[0;31m---------------------------------------------------------------------------\u001b[0m",
            "\u001b[0;31mNameError\u001b[0m                                 Traceback (most recent call last)",
            "\u001b[0;32m<ipython-input-6-b341618fd567>\u001b[0m in \u001b[0;36m<module>\u001b[0;34m()\u001b[0m\n\u001b[1;32m      1\u001b[0m \u001b[0mdt19\u001b[0m\u001b[0;34m.\u001b[0m\u001b[0m대여일자\u001b[0m \u001b[0;34m=\u001b[0m \u001b[0mpd\u001b[0m\u001b[0;34m.\u001b[0m\u001b[0mto_datetime\u001b[0m\u001b[0;34m(\u001b[0m\u001b[0mdt19\u001b[0m\u001b[0;34m.\u001b[0m\u001b[0m대여일자\u001b[0m\u001b[0;34m)\u001b[0m\u001b[0;34m\u001b[0m\u001b[0;34m\u001b[0m\u001b[0m\n\u001b[0;32m----> 2\u001b[0;31m \u001b[0mdt20\u001b[0m\u001b[0;34m.\u001b[0m\u001b[0m대여일자\u001b[0m \u001b[0;34m=\u001b[0m \u001b[0mpd\u001b[0m\u001b[0;34m.\u001b[0m\u001b[0mto_datetime\u001b[0m\u001b[0;34m(\u001b[0m\u001b[0mdt20\u001b[0m\u001b[0;34m.\u001b[0m\u001b[0m대여일자\u001b[0m\u001b[0;34m)\u001b[0m\u001b[0;34m\u001b[0m\u001b[0;34m\u001b[0m\u001b[0m\n\u001b[0m",
            "\u001b[0;31mNameError\u001b[0m: name 'dt20' is not defined"
          ]
        }
      ]
    },
    {
      "cell_type": "code",
      "metadata": {
        "colab": {
          "base_uri": "https://localhost:8080/",
          "height": 202
        },
        "id": "r2guJ0xqv69t",
        "outputId": "37f5ae9d-1418-461e-ea6e-97a35ae192bb"
      },
      "source": [
        "data19 = dt19.iloc[:,[0,1,6]] #'대여일자, 대여소번호, 이용건수'열만 가져오기 \n",
        "data19.head()"
      ],
      "execution_count": null,
      "outputs": [
        {
          "output_type": "execute_result",
          "data": {
            "text/html": [
              "<div>\n",
              "<style scoped>\n",
              "    .dataframe tbody tr th:only-of-type {\n",
              "        vertical-align: middle;\n",
              "    }\n",
              "\n",
              "    .dataframe tbody tr th {\n",
              "        vertical-align: top;\n",
              "    }\n",
              "\n",
              "    .dataframe thead th {\n",
              "        text-align: right;\n",
              "    }\n",
              "</style>\n",
              "<table border=\"1\" class=\"dataframe\">\n",
              "  <thead>\n",
              "    <tr style=\"text-align: right;\">\n",
              "      <th></th>\n",
              "      <th>대여일자</th>\n",
              "      <th>대여소번호</th>\n",
              "      <th>이용건수</th>\n",
              "    </tr>\n",
              "  </thead>\n",
              "  <tbody>\n",
              "    <tr>\n",
              "      <th>0</th>\n",
              "      <td>2019-12-01</td>\n",
              "      <td>101</td>\n",
              "      <td>1</td>\n",
              "    </tr>\n",
              "    <tr>\n",
              "      <th>1</th>\n",
              "      <td>2019-12-01</td>\n",
              "      <td>101</td>\n",
              "      <td>2</td>\n",
              "    </tr>\n",
              "    <tr>\n",
              "      <th>2</th>\n",
              "      <td>2019-12-01</td>\n",
              "      <td>101</td>\n",
              "      <td>1</td>\n",
              "    </tr>\n",
              "    <tr>\n",
              "      <th>3</th>\n",
              "      <td>2019-12-01</td>\n",
              "      <td>101</td>\n",
              "      <td>1</td>\n",
              "    </tr>\n",
              "    <tr>\n",
              "      <th>4</th>\n",
              "      <td>2019-12-01</td>\n",
              "      <td>101</td>\n",
              "      <td>1</td>\n",
              "    </tr>\n",
              "  </tbody>\n",
              "</table>\n",
              "</div>"
            ],
            "text/plain": [
              "        대여일자  대여소번호  이용건수\n",
              "0 2019-12-01    101     1\n",
              "1 2019-12-01    101     2\n",
              "2 2019-12-01    101     1\n",
              "3 2019-12-01    101     1\n",
              "4 2019-12-01    101     1"
            ]
          },
          "metadata": {
            "tags": []
          },
          "execution_count": 85
        }
      ]
    },
    {
      "cell_type": "code",
      "metadata": {
        "colab": {
          "base_uri": "https://localhost:8080/",
          "height": 202
        },
        "id": "jWfDcN4TwVB3",
        "outputId": "5c4a5b3c-1e49-4d9f-a080-262cf211d706"
      },
      "source": [
        "data20 = dt20.iloc[:,[0,1,6]]\n",
        "data20.head()"
      ],
      "execution_count": null,
      "outputs": [
        {
          "output_type": "execute_result",
          "data": {
            "text/html": [
              "<div>\n",
              "<style scoped>\n",
              "    .dataframe tbody tr th:only-of-type {\n",
              "        vertical-align: middle;\n",
              "    }\n",
              "\n",
              "    .dataframe tbody tr th {\n",
              "        vertical-align: top;\n",
              "    }\n",
              "\n",
              "    .dataframe thead th {\n",
              "        text-align: right;\n",
              "    }\n",
              "</style>\n",
              "<table border=\"1\" class=\"dataframe\">\n",
              "  <thead>\n",
              "    <tr style=\"text-align: right;\">\n",
              "      <th></th>\n",
              "      <th>대여일자</th>\n",
              "      <th>대여소번호</th>\n",
              "      <th>이용건수</th>\n",
              "    </tr>\n",
              "  </thead>\n",
              "  <tbody>\n",
              "    <tr>\n",
              "      <th>0</th>\n",
              "      <td>2020-07-01</td>\n",
              "      <td>5</td>\n",
              "      <td>1.0</td>\n",
              "    </tr>\n",
              "    <tr>\n",
              "      <th>1</th>\n",
              "      <td>2020-07-01</td>\n",
              "      <td>5</td>\n",
              "      <td>1.0</td>\n",
              "    </tr>\n",
              "    <tr>\n",
              "      <th>2</th>\n",
              "      <td>2020-07-01</td>\n",
              "      <td>101</td>\n",
              "      <td>1.0</td>\n",
              "    </tr>\n",
              "    <tr>\n",
              "      <th>3</th>\n",
              "      <td>2020-07-01</td>\n",
              "      <td>101</td>\n",
              "      <td>4.0</td>\n",
              "    </tr>\n",
              "    <tr>\n",
              "      <th>4</th>\n",
              "      <td>2020-07-01</td>\n",
              "      <td>101</td>\n",
              "      <td>3.0</td>\n",
              "    </tr>\n",
              "  </tbody>\n",
              "</table>\n",
              "</div>"
            ],
            "text/plain": [
              "        대여일자  대여소번호  이용건수\n",
              "0 2020-07-01      5   1.0\n",
              "1 2020-07-01      5   1.0\n",
              "2 2020-07-01    101   1.0\n",
              "3 2020-07-01    101   4.0\n",
              "4 2020-07-01    101   3.0"
            ]
          },
          "metadata": {
            "tags": []
          },
          "execution_count": 86
        }
      ]
    },
    {
      "cell_type": "markdown",
      "metadata": {
        "id": "DR_jrcQoxBpc"
      },
      "source": [
        "2. 이용건수 데이터에 대여소 정보 데이터를 붙여준다."
      ]
    },
    {
      "cell_type": "code",
      "metadata": {
        "colab": {
          "base_uri": "https://localhost:8080/",
          "height": 302
        },
        "id": "mqasLZYRwmFI",
        "outputId": "13024096-3370-43d7-ed87-dc0172399fcb"
      },
      "source": [
        "bic_20 = pd.merge(data20, station, left_on='대여소번호', right_on='대여소번호', how='left')\n",
        "bic_20.tail()"
      ],
      "execution_count": null,
      "outputs": [
        {
          "output_type": "execute_result",
          "data": {
            "text/html": [
              "<div>\n",
              "<style scoped>\n",
              "    .dataframe tbody tr th:only-of-type {\n",
              "        vertical-align: middle;\n",
              "    }\n",
              "\n",
              "    .dataframe tbody tr th {\n",
              "        vertical-align: top;\n",
              "    }\n",
              "\n",
              "    .dataframe thead th {\n",
              "        text-align: right;\n",
              "    }\n",
              "</style>\n",
              "<table border=\"1\" class=\"dataframe\">\n",
              "  <thead>\n",
              "    <tr style=\"text-align: right;\">\n",
              "      <th></th>\n",
              "      <th>대여일자</th>\n",
              "      <th>대여소번호</th>\n",
              "      <th>이용건수</th>\n",
              "      <th>보관소(대여소)명</th>\n",
              "      <th>자치구</th>\n",
              "      <th>상세주소</th>\n",
              "      <th>위도</th>\n",
              "      <th>경도</th>\n",
              "      <th>설치시기</th>\n",
              "      <th>LCD</th>\n",
              "      <th>QR</th>\n",
              "      <th>운영방식</th>\n",
              "    </tr>\n",
              "  </thead>\n",
              "  <tbody>\n",
              "    <tr>\n",
              "      <th>305248</th>\n",
              "      <td>2020-07-09</td>\n",
              "      <td>2347</td>\n",
              "      <td>4.0</td>\n",
              "      <td>두산건설 본사</td>\n",
              "      <td>강남구</td>\n",
              "      <td>서울특별시 강남구 언주로 726</td>\n",
              "      <td>37.518639</td>\n",
              "      <td>127.035400</td>\n",
              "      <td>2017-08-22</td>\n",
              "      <td>15.0</td>\n",
              "      <td>NaN</td>\n",
              "      <td>LCD</td>\n",
              "    </tr>\n",
              "    <tr>\n",
              "      <th>305249</th>\n",
              "      <td>2020-07-09</td>\n",
              "      <td>2348</td>\n",
              "      <td>2.0</td>\n",
              "      <td>포스코사거리(기업은행)</td>\n",
              "      <td>강남구</td>\n",
              "      <td>서울특별시 강남구 테헤란로 501</td>\n",
              "      <td>37.507233</td>\n",
              "      <td>127.056854</td>\n",
              "      <td>2020-11-24</td>\n",
              "      <td>NaN</td>\n",
              "      <td>20.0</td>\n",
              "      <td>QR</td>\n",
              "    </tr>\n",
              "    <tr>\n",
              "      <th>305250</th>\n",
              "      <td>2020-07-09</td>\n",
              "      <td>2348</td>\n",
              "      <td>1.0</td>\n",
              "      <td>포스코사거리(기업은행)</td>\n",
              "      <td>강남구</td>\n",
              "      <td>서울특별시 강남구 테헤란로 501</td>\n",
              "      <td>37.507233</td>\n",
              "      <td>127.056854</td>\n",
              "      <td>2020-11-24</td>\n",
              "      <td>NaN</td>\n",
              "      <td>20.0</td>\n",
              "      <td>QR</td>\n",
              "    </tr>\n",
              "    <tr>\n",
              "      <th>305251</th>\n",
              "      <td>2020-07-09</td>\n",
              "      <td>2348</td>\n",
              "      <td>1.0</td>\n",
              "      <td>포스코사거리(기업은행)</td>\n",
              "      <td>강남구</td>\n",
              "      <td>서울특별시 강남구 테헤란로 501</td>\n",
              "      <td>37.507233</td>\n",
              "      <td>127.056854</td>\n",
              "      <td>2020-11-24</td>\n",
              "      <td>NaN</td>\n",
              "      <td>20.0</td>\n",
              "      <td>QR</td>\n",
              "    </tr>\n",
              "    <tr>\n",
              "      <th>305252</th>\n",
              "      <td>2020-07-09</td>\n",
              "      <td>2348</td>\n",
              "      <td>NaN</td>\n",
              "      <td>포스코사거리(기업은행)</td>\n",
              "      <td>강남구</td>\n",
              "      <td>서울특별시 강남구 테헤란로 501</td>\n",
              "      <td>37.507233</td>\n",
              "      <td>127.056854</td>\n",
              "      <td>2020-11-24</td>\n",
              "      <td>NaN</td>\n",
              "      <td>20.0</td>\n",
              "      <td>QR</td>\n",
              "    </tr>\n",
              "  </tbody>\n",
              "</table>\n",
              "</div>"
            ],
            "text/plain": [
              "             대여일자  대여소번호  이용건수     보관소(대여소)명  ...        설치시기   LCD    QR  운영방식\n",
              "305248 2020-07-09   2347   4.0       두산건설 본사  ...  2017-08-22  15.0   NaN   LCD\n",
              "305249 2020-07-09   2348   2.0  포스코사거리(기업은행)  ...  2020-11-24   NaN  20.0    QR\n",
              "305250 2020-07-09   2348   1.0  포스코사거리(기업은행)  ...  2020-11-24   NaN  20.0    QR\n",
              "305251 2020-07-09   2348   1.0  포스코사거리(기업은행)  ...  2020-11-24   NaN  20.0    QR\n",
              "305252 2020-07-09   2348   NaN  포스코사거리(기업은행)  ...  2020-11-24   NaN  20.0    QR\n",
              "\n",
              "[5 rows x 12 columns]"
            ]
          },
          "metadata": {
            "tags": []
          },
          "execution_count": 101
        }
      ]
    },
    {
      "cell_type": "code",
      "metadata": {
        "id": "qTl7-3kdws5b"
      },
      "source": [
        "bic_19 = pd.merge(data19, station, left_on='대여소번호', right_on='대여소번호', how='left')\n",
        "bic_19.info()"
      ],
      "execution_count": null,
      "outputs": []
    },
    {
      "cell_type": "code",
      "metadata": {
        "colab": {
          "base_uri": "https://localhost:8080/",
          "height": 302
        },
        "id": "s6PWM0fhzCiF",
        "outputId": "23d94b32-302e-4e99-e982-1d43d3deba0c"
      },
      "source": [
        "bic_19_last = bic_19.loc[(bic_19.대여일자.dt.month == 12) & (bic_19.대여일자.dt.day == 31)]\n",
        "bic_19_last.head()"
      ],
      "execution_count": null,
      "outputs": [
        {
          "output_type": "execute_result",
          "data": {
            "text/html": [
              "<div>\n",
              "<style scoped>\n",
              "    .dataframe tbody tr th:only-of-type {\n",
              "        vertical-align: middle;\n",
              "    }\n",
              "\n",
              "    .dataframe tbody tr th {\n",
              "        vertical-align: top;\n",
              "    }\n",
              "\n",
              "    .dataframe thead th {\n",
              "        text-align: right;\n",
              "    }\n",
              "</style>\n",
              "<table border=\"1\" class=\"dataframe\">\n",
              "  <thead>\n",
              "    <tr style=\"text-align: right;\">\n",
              "      <th></th>\n",
              "      <th>대여일자</th>\n",
              "      <th>대여소번호</th>\n",
              "      <th>이용건수</th>\n",
              "      <th>보관소(대여소)명</th>\n",
              "      <th>자치구</th>\n",
              "      <th>상세주소</th>\n",
              "      <th>위도</th>\n",
              "      <th>경도</th>\n",
              "      <th>설치시기</th>\n",
              "      <th>LCD</th>\n",
              "      <th>QR</th>\n",
              "      <th>운영방식</th>\n",
              "    </tr>\n",
              "  </thead>\n",
              "  <tbody>\n",
              "    <tr>\n",
              "      <th>448392</th>\n",
              "      <td>2019-12-31</td>\n",
              "      <td>5</td>\n",
              "      <td>1</td>\n",
              "      <td>NaN</td>\n",
              "      <td>NaN</td>\n",
              "      <td>NaN</td>\n",
              "      <td>NaN</td>\n",
              "      <td>NaN</td>\n",
              "      <td>NaN</td>\n",
              "      <td>NaN</td>\n",
              "      <td>NaN</td>\n",
              "      <td>NaN</td>\n",
              "    </tr>\n",
              "    <tr>\n",
              "      <th>448393</th>\n",
              "      <td>2019-12-31</td>\n",
              "      <td>101</td>\n",
              "      <td>3</td>\n",
              "      <td>(구)합정동 주민센터</td>\n",
              "      <td>마포구</td>\n",
              "      <td>서울특별시 마포구 동교로8길 58</td>\n",
              "      <td>37.549561</td>\n",
              "      <td>126.905754</td>\n",
              "      <td>2015-09-06</td>\n",
              "      <td>5.0</td>\n",
              "      <td>NaN</td>\n",
              "      <td>LCD</td>\n",
              "    </tr>\n",
              "    <tr>\n",
              "      <th>448394</th>\n",
              "      <td>2019-12-31</td>\n",
              "      <td>101</td>\n",
              "      <td>2</td>\n",
              "      <td>(구)합정동 주민센터</td>\n",
              "      <td>마포구</td>\n",
              "      <td>서울특별시 마포구 동교로8길 58</td>\n",
              "      <td>37.549561</td>\n",
              "      <td>126.905754</td>\n",
              "      <td>2015-09-06</td>\n",
              "      <td>5.0</td>\n",
              "      <td>NaN</td>\n",
              "      <td>LCD</td>\n",
              "    </tr>\n",
              "    <tr>\n",
              "      <th>448395</th>\n",
              "      <td>2019-12-31</td>\n",
              "      <td>101</td>\n",
              "      <td>1</td>\n",
              "      <td>(구)합정동 주민센터</td>\n",
              "      <td>마포구</td>\n",
              "      <td>서울특별시 마포구 동교로8길 58</td>\n",
              "      <td>37.549561</td>\n",
              "      <td>126.905754</td>\n",
              "      <td>2015-09-06</td>\n",
              "      <td>5.0</td>\n",
              "      <td>NaN</td>\n",
              "      <td>LCD</td>\n",
              "    </tr>\n",
              "    <tr>\n",
              "      <th>448396</th>\n",
              "      <td>2019-12-31</td>\n",
              "      <td>101</td>\n",
              "      <td>2</td>\n",
              "      <td>(구)합정동 주민센터</td>\n",
              "      <td>마포구</td>\n",
              "      <td>서울특별시 마포구 동교로8길 58</td>\n",
              "      <td>37.549561</td>\n",
              "      <td>126.905754</td>\n",
              "      <td>2015-09-06</td>\n",
              "      <td>5.0</td>\n",
              "      <td>NaN</td>\n",
              "      <td>LCD</td>\n",
              "    </tr>\n",
              "  </tbody>\n",
              "</table>\n",
              "</div>"
            ],
            "text/plain": [
              "             대여일자  대여소번호  이용건수    보관소(대여소)명  ...        설치시기  LCD  QR  운영방식\n",
              "448392 2019-12-31      5     1          NaN  ...         NaN  NaN NaN   NaN\n",
              "448393 2019-12-31    101     3  (구)합정동 주민센터  ...  2015-09-06  5.0 NaN   LCD\n",
              "448394 2019-12-31    101     2  (구)합정동 주민센터  ...  2015-09-06  5.0 NaN   LCD\n",
              "448395 2019-12-31    101     1  (구)합정동 주민센터  ...  2015-09-06  5.0 NaN   LCD\n",
              "448396 2019-12-31    101     2  (구)합정동 주민센터  ...  2015-09-06  5.0 NaN   LCD\n",
              "\n",
              "[5 rows x 12 columns]"
            ]
          },
          "metadata": {
            "tags": []
          },
          "execution_count": 100
        }
      ]
    },
    {
      "cell_type": "code",
      "metadata": {
        "colab": {
          "base_uri": "https://localhost:8080/"
        },
        "id": "-tYuPb4iwwoT",
        "outputId": "b168ae58-8cd1-4783-cd0d-c77c8647d717"
      },
      "source": [
        "bic_19_g = bic_19_last['이용건수'].groupby(bic_19_last['대여소번호']).sum()\n",
        "bic_19_g"
      ],
      "execution_count": null,
      "outputs": [
        {
          "output_type": "execute_result",
          "data": {
            "text/plain": [
              "대여소번호\n",
              "5         1\n",
              "101      11\n",
              "102      24\n",
              "103      18\n",
              "104      13\n",
              "         ..\n",
              "3539      2\n",
              "3541     37\n",
              "3543      5\n",
              "9997      1\n",
              "99999     1\n",
              "Name: 이용건수, Length: 1501, dtype: int64"
            ]
          },
          "metadata": {
            "tags": []
          },
          "execution_count": 119
        }
      ]
    },
    {
      "cell_type": "code",
      "metadata": {
        "colab": {
          "base_uri": "https://localhost:8080/"
        },
        "id": "yJwkxGzJx5_6",
        "outputId": "1471d544-4c8f-4103-feb9-286f3951a2cd"
      },
      "source": [
        "bic_20_g = bic_20_last['이용건수'].groupby(bic_20_last['대여소번호']).sum()\n",
        "bic_20_g"
      ],
      "execution_count": null,
      "outputs": [
        {
          "output_type": "execute_result",
          "data": {
            "text/plain": [
              "Series([], Name: 이용건수, dtype: float64)"
            ]
          },
          "metadata": {
            "tags": []
          },
          "execution_count": 120
        }
      ]
    },
    {
      "cell_type": "code",
      "metadata": {
        "id": "9zVMLnqg4DHC"
      },
      "source": [
        ""
      ],
      "execution_count": null,
      "outputs": []
    },
    {
      "cell_type": "code",
      "metadata": {
        "id": "l78Vop93x6F0"
      },
      "source": [
        ""
      ],
      "execution_count": null,
      "outputs": []
    },
    {
      "cell_type": "code",
      "metadata": {
        "id": "hl31L7SNx6H1"
      },
      "source": [
        ""
      ],
      "execution_count": null,
      "outputs": []
    },
    {
      "cell_type": "code",
      "metadata": {
        "id": "I2sp0zZ6x6K2"
      },
      "source": [
        ""
      ],
      "execution_count": null,
      "outputs": []
    }
  ]
}