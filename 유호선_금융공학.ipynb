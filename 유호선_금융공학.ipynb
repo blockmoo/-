{
  "nbformat": 4,
  "nbformat_minor": 0,
  "metadata": {
    "colab": {
      "name": "유호선 금융공학.ipynb",
      "provenance": [],
      "collapsed_sections": [],
      "authorship_tag": "ABX9TyPC6taPdnrkarSSORjPG67z",
      "include_colab_link": true
    },
    "kernelspec": {
      "name": "python3",
      "display_name": "Python 3"
    },
    "language_info": {
      "name": "python"
    }
  },
  "cells": [
    {
      "cell_type": "markdown",
      "metadata": {
        "id": "view-in-github",
        "colab_type": "text"
      },
      "source": [
        "<a href=\"https://colab.research.google.com/github/blockmoo/python_tutoring/blob/main/%EC%9C%A0%ED%98%B8%EC%84%A0_%EA%B8%88%EC%9C%B5%EA%B3%B5%ED%95%99.ipynb\" target=\"_parent\"><img src=\"https://colab.research.google.com/assets/colab-badge.svg\" alt=\"Open In Colab\"/></a>"
      ]
    },
    {
      "cell_type": "markdown",
      "metadata": {
        "id": "AHAkKaClty2d"
      },
      "source": [
        "#1번"
      ]
    },
    {
      "cell_type": "code",
      "metadata": {
        "id": "Y4xyenM3sUQT"
      },
      "source": [
        "import numpy as np\n",
        "import pandas as pd\n",
        "from pandas_datareader import data\n",
        "import matplotlib.pyplot as plt\n",
        "%matplotlib inline\n",
        "from datetime import datetime\n",
        "from scipy.stats import norm"
      ],
      "execution_count": null,
      "outputs": []
    },
    {
      "cell_type": "code",
      "metadata": {
        "colab": {
          "base_uri": "https://localhost:8080/",
          "height": 284
        },
        "id": "R0fFAOm3sU8s",
        "outputId": "455b95b2-1109-4011-ce49-779de78d4c56"
      },
      "source": [
        "# Read Data\n",
        "test = data.DataReader(['066570.KS','015760.KS','068270.KS','121800.KQ'], 'yahoo', start='2016/01/04', end='2021/05/31')\n",
        "test = test.fillna(0)\n",
        "test.head()"
      ],
      "execution_count": null,
      "outputs": [
        {
          "output_type": "execute_result",
          "data": {
            "text/html": [
              "<div>\n",
              "<style scoped>\n",
              "    .dataframe tbody tr th:only-of-type {\n",
              "        vertical-align: middle;\n",
              "    }\n",
              "\n",
              "    .dataframe tbody tr th {\n",
              "        vertical-align: top;\n",
              "    }\n",
              "\n",
              "    .dataframe thead tr th {\n",
              "        text-align: left;\n",
              "    }\n",
              "\n",
              "    .dataframe thead tr:last-of-type th {\n",
              "        text-align: right;\n",
              "    }\n",
              "</style>\n",
              "<table border=\"1\" class=\"dataframe\">\n",
              "  <thead>\n",
              "    <tr>\n",
              "      <th>Attributes</th>\n",
              "      <th colspan=\"4\" halign=\"left\">Adj Close</th>\n",
              "      <th colspan=\"4\" halign=\"left\">Close</th>\n",
              "      <th colspan=\"4\" halign=\"left\">High</th>\n",
              "      <th colspan=\"4\" halign=\"left\">Low</th>\n",
              "      <th colspan=\"4\" halign=\"left\">Open</th>\n",
              "      <th colspan=\"4\" halign=\"left\">Volume</th>\n",
              "    </tr>\n",
              "    <tr>\n",
              "      <th>Symbols</th>\n",
              "      <th>066570.KS</th>\n",
              "      <th>015760.KS</th>\n",
              "      <th>068270.KS</th>\n",
              "      <th>121800.KQ</th>\n",
              "      <th>066570.KS</th>\n",
              "      <th>015760.KS</th>\n",
              "      <th>068270.KS</th>\n",
              "      <th>121800.KQ</th>\n",
              "      <th>066570.KS</th>\n",
              "      <th>015760.KS</th>\n",
              "      <th>068270.KS</th>\n",
              "      <th>121800.KQ</th>\n",
              "      <th>066570.KS</th>\n",
              "      <th>015760.KS</th>\n",
              "      <th>068270.KS</th>\n",
              "      <th>121800.KQ</th>\n",
              "      <th>066570.KS</th>\n",
              "      <th>015760.KS</th>\n",
              "      <th>068270.KS</th>\n",
              "      <th>121800.KQ</th>\n",
              "      <th>066570.KS</th>\n",
              "      <th>015760.KS</th>\n",
              "      <th>068270.KS</th>\n",
              "      <th>121800.KQ</th>\n",
              "    </tr>\n",
              "    <tr>\n",
              "      <th>Date</th>\n",
              "      <th></th>\n",
              "      <th></th>\n",
              "      <th></th>\n",
              "      <th></th>\n",
              "      <th></th>\n",
              "      <th></th>\n",
              "      <th></th>\n",
              "      <th></th>\n",
              "      <th></th>\n",
              "      <th></th>\n",
              "      <th></th>\n",
              "      <th></th>\n",
              "      <th></th>\n",
              "      <th></th>\n",
              "      <th></th>\n",
              "      <th></th>\n",
              "      <th></th>\n",
              "      <th></th>\n",
              "      <th></th>\n",
              "      <th></th>\n",
              "      <th></th>\n",
              "      <th></th>\n",
              "      <th></th>\n",
              "      <th></th>\n",
              "    </tr>\n",
              "  </thead>\n",
              "  <tbody>\n",
              "    <tr>\n",
              "      <th>2016-01-04</th>\n",
              "      <td>50214.957031</td>\n",
              "      <td>44816.449219</td>\n",
              "      <td>76240.500000</td>\n",
              "      <td>14050.0</td>\n",
              "      <td>52500.0</td>\n",
              "      <td>50000.0</td>\n",
              "      <td>76240.500000</td>\n",
              "      <td>14050.0</td>\n",
              "      <td>53900.0</td>\n",
              "      <td>50300.0</td>\n",
              "      <td>78377.289062</td>\n",
              "      <td>14550.0</td>\n",
              "      <td>52500.0</td>\n",
              "      <td>48900.0</td>\n",
              "      <td>72052.398438</td>\n",
              "      <td>13850.0</td>\n",
              "      <td>53900.0</td>\n",
              "      <td>50100.0</td>\n",
              "      <td>72736.171875</td>\n",
              "      <td>14300.0</td>\n",
              "      <td>542920.0</td>\n",
              "      <td>1168262.0</td>\n",
              "      <td>2640145.0</td>\n",
              "      <td>94340.0</td>\n",
              "    </tr>\n",
              "    <tr>\n",
              "      <th>2016-01-05</th>\n",
              "      <td>51936.609375</td>\n",
              "      <td>45443.875000</td>\n",
              "      <td>77180.687500</td>\n",
              "      <td>13600.0</td>\n",
              "      <td>54300.0</td>\n",
              "      <td>50700.0</td>\n",
              "      <td>77180.687500</td>\n",
              "      <td>13600.0</td>\n",
              "      <td>54500.0</td>\n",
              "      <td>51300.0</td>\n",
              "      <td>78291.812500</td>\n",
              "      <td>14000.0</td>\n",
              "      <td>51900.0</td>\n",
              "      <td>49650.0</td>\n",
              "      <td>75898.617188</td>\n",
              "      <td>13450.0</td>\n",
              "      <td>52100.0</td>\n",
              "      <td>49650.0</td>\n",
              "      <td>76069.554688</td>\n",
              "      <td>13600.0</td>\n",
              "      <td>746137.0</td>\n",
              "      <td>881713.0</td>\n",
              "      <td>1681687.0</td>\n",
              "      <td>81712.0</td>\n",
              "    </tr>\n",
              "    <tr>\n",
              "      <th>2016-01-06</th>\n",
              "      <td>52319.195312</td>\n",
              "      <td>45533.507812</td>\n",
              "      <td>78377.289062</td>\n",
              "      <td>13000.0</td>\n",
              "      <td>54700.0</td>\n",
              "      <td>50800.0</td>\n",
              "      <td>78377.289062</td>\n",
              "      <td>13000.0</td>\n",
              "      <td>55200.0</td>\n",
              "      <td>51400.0</td>\n",
              "      <td>79061.054688</td>\n",
              "      <td>14150.0</td>\n",
              "      <td>53700.0</td>\n",
              "      <td>50400.0</td>\n",
              "      <td>76155.031250</td>\n",
              "      <td>12450.0</td>\n",
              "      <td>54100.0</td>\n",
              "      <td>51200.0</td>\n",
              "      <td>77351.632812</td>\n",
              "      <td>14000.0</td>\n",
              "      <td>1039057.0</td>\n",
              "      <td>770189.0</td>\n",
              "      <td>2039196.0</td>\n",
              "      <td>135125.0</td>\n",
              "    </tr>\n",
              "    <tr>\n",
              "      <th>2016-01-07</th>\n",
              "      <td>52606.140625</td>\n",
              "      <td>45085.343750</td>\n",
              "      <td>78377.289062</td>\n",
              "      <td>12250.0</td>\n",
              "      <td>55000.0</td>\n",
              "      <td>50300.0</td>\n",
              "      <td>78377.289062</td>\n",
              "      <td>12250.0</td>\n",
              "      <td>56900.0</td>\n",
              "      <td>51100.0</td>\n",
              "      <td>84360.289062</td>\n",
              "      <td>13000.0</td>\n",
              "      <td>54900.0</td>\n",
              "      <td>49950.0</td>\n",
              "      <td>77608.046875</td>\n",
              "      <td>11600.0</td>\n",
              "      <td>55200.0</td>\n",
              "      <td>51000.0</td>\n",
              "      <td>80599.546875</td>\n",
              "      <td>13000.0</td>\n",
              "      <td>2352287.0</td>\n",
              "      <td>533328.0</td>\n",
              "      <td>3668420.0</td>\n",
              "      <td>142628.0</td>\n",
              "    </tr>\n",
              "    <tr>\n",
              "      <th>2016-01-08</th>\n",
              "      <td>53466.968750</td>\n",
              "      <td>44726.812500</td>\n",
              "      <td>82479.914062</td>\n",
              "      <td>12500.0</td>\n",
              "      <td>55900.0</td>\n",
              "      <td>49900.0</td>\n",
              "      <td>82479.914062</td>\n",
              "      <td>12500.0</td>\n",
              "      <td>56100.0</td>\n",
              "      <td>49950.0</td>\n",
              "      <td>82479.914062</td>\n",
              "      <td>12550.0</td>\n",
              "      <td>54100.0</td>\n",
              "      <td>48700.0</td>\n",
              "      <td>76325.968750</td>\n",
              "      <td>11250.0</td>\n",
              "      <td>54500.0</td>\n",
              "      <td>49000.0</td>\n",
              "      <td>76411.445312</td>\n",
              "      <td>11700.0</td>\n",
              "      <td>1149750.0</td>\n",
              "      <td>1027981.0</td>\n",
              "      <td>3025083.0</td>\n",
              "      <td>71680.0</td>\n",
              "    </tr>\n",
              "  </tbody>\n",
              "</table>\n",
              "</div>"
            ],
            "text/plain": [
              "Attributes     Adj Close                ...     Volume          \n",
              "Symbols        066570.KS     015760.KS  ...  068270.KS 121800.KQ\n",
              "Date                                    ...                     \n",
              "2016-01-04  50214.957031  44816.449219  ...  2640145.0   94340.0\n",
              "2016-01-05  51936.609375  45443.875000  ...  1681687.0   81712.0\n",
              "2016-01-06  52319.195312  45533.507812  ...  2039196.0  135125.0\n",
              "2016-01-07  52606.140625  45085.343750  ...  3668420.0  142628.0\n",
              "2016-01-08  53466.968750  44726.812500  ...  3025083.0   71680.0\n",
              "\n",
              "[5 rows x 24 columns]"
            ]
          },
          "metadata": {
            "tags": []
          },
          "execution_count": 4
        }
      ]
    },
    {
      "cell_type": "code",
      "metadata": {
        "colab": {
          "base_uri": "https://localhost:8080/",
          "height": 233
        },
        "id": "Gb3nt4vwsVcD",
        "outputId": "49d4c5b6-6659-43b2-d3de-087f2e41e638"
      },
      "source": [
        "# Closing price\n",
        "test = test['Adj Close']\n",
        "test.head()"
      ],
      "execution_count": null,
      "outputs": [
        {
          "output_type": "execute_result",
          "data": {
            "text/html": [
              "<div>\n",
              "<style scoped>\n",
              "    .dataframe tbody tr th:only-of-type {\n",
              "        vertical-align: middle;\n",
              "    }\n",
              "\n",
              "    .dataframe tbody tr th {\n",
              "        vertical-align: top;\n",
              "    }\n",
              "\n",
              "    .dataframe thead th {\n",
              "        text-align: right;\n",
              "    }\n",
              "</style>\n",
              "<table border=\"1\" class=\"dataframe\">\n",
              "  <thead>\n",
              "    <tr style=\"text-align: right;\">\n",
              "      <th>Symbols</th>\n",
              "      <th>066570.KS</th>\n",
              "      <th>015760.KS</th>\n",
              "      <th>068270.KS</th>\n",
              "      <th>121800.KQ</th>\n",
              "    </tr>\n",
              "    <tr>\n",
              "      <th>Date</th>\n",
              "      <th></th>\n",
              "      <th></th>\n",
              "      <th></th>\n",
              "      <th></th>\n",
              "    </tr>\n",
              "  </thead>\n",
              "  <tbody>\n",
              "    <tr>\n",
              "      <th>2016-01-04</th>\n",
              "      <td>50214.957031</td>\n",
              "      <td>44816.449219</td>\n",
              "      <td>76240.500000</td>\n",
              "      <td>14050.0</td>\n",
              "    </tr>\n",
              "    <tr>\n",
              "      <th>2016-01-05</th>\n",
              "      <td>51936.609375</td>\n",
              "      <td>45443.875000</td>\n",
              "      <td>77180.687500</td>\n",
              "      <td>13600.0</td>\n",
              "    </tr>\n",
              "    <tr>\n",
              "      <th>2016-01-06</th>\n",
              "      <td>52319.195312</td>\n",
              "      <td>45533.507812</td>\n",
              "      <td>78377.289062</td>\n",
              "      <td>13000.0</td>\n",
              "    </tr>\n",
              "    <tr>\n",
              "      <th>2016-01-07</th>\n",
              "      <td>52606.140625</td>\n",
              "      <td>45085.343750</td>\n",
              "      <td>78377.289062</td>\n",
              "      <td>12250.0</td>\n",
              "    </tr>\n",
              "    <tr>\n",
              "      <th>2016-01-08</th>\n",
              "      <td>53466.968750</td>\n",
              "      <td>44726.812500</td>\n",
              "      <td>82479.914062</td>\n",
              "      <td>12500.0</td>\n",
              "    </tr>\n",
              "  </tbody>\n",
              "</table>\n",
              "</div>"
            ],
            "text/plain": [
              "Symbols        066570.KS     015760.KS     068270.KS  121800.KQ\n",
              "Date                                                           \n",
              "2016-01-04  50214.957031  44816.449219  76240.500000    14050.0\n",
              "2016-01-05  51936.609375  45443.875000  77180.687500    13600.0\n",
              "2016-01-06  52319.195312  45533.507812  78377.289062    13000.0\n",
              "2016-01-07  52606.140625  45085.343750  78377.289062    12250.0\n",
              "2016-01-08  53466.968750  44726.812500  82479.914062    12500.0"
            ]
          },
          "metadata": {
            "tags": []
          },
          "execution_count": 5
        }
      ]
    },
    {
      "cell_type": "code",
      "metadata": {
        "colab": {
          "base_uri": "https://localhost:8080/",
          "height": 233
        },
        "id": "PABVFSAssVen",
        "outputId": "2be5efb5-10be-4d4c-d1e2-6dbda4aeb713"
      },
      "source": [
        "test.columns = ['LG electronics','KEPCO',\"Celltrion\",\"Vidente\"]\n",
        "test.tail()"
      ],
      "execution_count": null,
      "outputs": [
        {
          "output_type": "execute_result",
          "data": {
            "text/html": [
              "<div>\n",
              "<style scoped>\n",
              "    .dataframe tbody tr th:only-of-type {\n",
              "        vertical-align: middle;\n",
              "    }\n",
              "\n",
              "    .dataframe tbody tr th {\n",
              "        vertical-align: top;\n",
              "    }\n",
              "\n",
              "    .dataframe thead th {\n",
              "        text-align: right;\n",
              "    }\n",
              "</style>\n",
              "<table border=\"1\" class=\"dataframe\">\n",
              "  <thead>\n",
              "    <tr style=\"text-align: right;\">\n",
              "      <th></th>\n",
              "      <th>LG electronics</th>\n",
              "      <th>KEPCO</th>\n",
              "      <th>Celltrion</th>\n",
              "      <th>Vidente</th>\n",
              "    </tr>\n",
              "    <tr>\n",
              "      <th>Date</th>\n",
              "      <th></th>\n",
              "      <th></th>\n",
              "      <th></th>\n",
              "      <th></th>\n",
              "    </tr>\n",
              "  </thead>\n",
              "  <tbody>\n",
              "    <tr>\n",
              "      <th>2021-05-26</th>\n",
              "      <td>152000.0</td>\n",
              "      <td>26250.0</td>\n",
              "      <td>270500.0</td>\n",
              "      <td>0.0</td>\n",
              "    </tr>\n",
              "    <tr>\n",
              "      <th>2021-05-27</th>\n",
              "      <td>149500.0</td>\n",
              "      <td>26050.0</td>\n",
              "      <td>269000.0</td>\n",
              "      <td>0.0</td>\n",
              "    </tr>\n",
              "    <tr>\n",
              "      <th>2021-05-28</th>\n",
              "      <td>151500.0</td>\n",
              "      <td>25450.0</td>\n",
              "      <td>273500.0</td>\n",
              "      <td>0.0</td>\n",
              "    </tr>\n",
              "    <tr>\n",
              "      <th>2021-05-31</th>\n",
              "      <td>152000.0</td>\n",
              "      <td>25800.0</td>\n",
              "      <td>274500.0</td>\n",
              "      <td>0.0</td>\n",
              "    </tr>\n",
              "    <tr>\n",
              "      <th>2021-06-01</th>\n",
              "      <td>151500.0</td>\n",
              "      <td>26100.0</td>\n",
              "      <td>272500.0</td>\n",
              "      <td>0.0</td>\n",
              "    </tr>\n",
              "  </tbody>\n",
              "</table>\n",
              "</div>"
            ],
            "text/plain": [
              "            LG electronics    KEPCO  Celltrion  Vidente\n",
              "Date                                                   \n",
              "2021-05-26        152000.0  26250.0   270500.0      0.0\n",
              "2021-05-27        149500.0  26050.0   269000.0      0.0\n",
              "2021-05-28        151500.0  25450.0   273500.0      0.0\n",
              "2021-05-31        152000.0  25800.0   274500.0      0.0\n",
              "2021-06-01        151500.0  26100.0   272500.0      0.0"
            ]
          },
          "metadata": {
            "tags": []
          },
          "execution_count": 6
        }
      ]
    },
    {
      "cell_type": "code",
      "metadata": {
        "colab": {
          "base_uri": "https://localhost:8080/",
          "height": 268
        },
        "id": "GkBNlAQxsVhj",
        "outputId": "4edfd287-5bc9-4678-ae9a-ebab1f838c5f"
      },
      "source": [
        "# log return\n",
        "logreturn = test.pct_change().apply(lambda x: np.log(1+x))\n",
        "logreturn.tail()"
      ],
      "execution_count": null,
      "outputs": [
        {
          "output_type": "stream",
          "text": [
            "/usr/local/lib/python3.7/dist-packages/pandas/core/series.py:726: RuntimeWarning: divide by zero encountered in log\n",
            "  result = getattr(ufunc, method)(*inputs, **kwargs)\n"
          ],
          "name": "stderr"
        },
        {
          "output_type": "execute_result",
          "data": {
            "text/html": [
              "<div>\n",
              "<style scoped>\n",
              "    .dataframe tbody tr th:only-of-type {\n",
              "        vertical-align: middle;\n",
              "    }\n",
              "\n",
              "    .dataframe tbody tr th {\n",
              "        vertical-align: top;\n",
              "    }\n",
              "\n",
              "    .dataframe thead th {\n",
              "        text-align: right;\n",
              "    }\n",
              "</style>\n",
              "<table border=\"1\" class=\"dataframe\">\n",
              "  <thead>\n",
              "    <tr style=\"text-align: right;\">\n",
              "      <th></th>\n",
              "      <th>LG electronics</th>\n",
              "      <th>KEPCO</th>\n",
              "      <th>Celltrion</th>\n",
              "      <th>Vidente</th>\n",
              "    </tr>\n",
              "    <tr>\n",
              "      <th>Date</th>\n",
              "      <th></th>\n",
              "      <th></th>\n",
              "      <th></th>\n",
              "      <th></th>\n",
              "    </tr>\n",
              "  </thead>\n",
              "  <tbody>\n",
              "    <tr>\n",
              "      <th>2021-05-26</th>\n",
              "      <td>-0.009820</td>\n",
              "      <td>0.052798</td>\n",
              "      <td>-0.005530</td>\n",
              "      <td>NaN</td>\n",
              "    </tr>\n",
              "    <tr>\n",
              "      <th>2021-05-27</th>\n",
              "      <td>-0.016584</td>\n",
              "      <td>-0.007648</td>\n",
              "      <td>-0.005561</td>\n",
              "      <td>NaN</td>\n",
              "    </tr>\n",
              "    <tr>\n",
              "      <th>2021-05-28</th>\n",
              "      <td>0.013289</td>\n",
              "      <td>-0.023302</td>\n",
              "      <td>0.016590</td>\n",
              "      <td>NaN</td>\n",
              "    </tr>\n",
              "    <tr>\n",
              "      <th>2021-05-31</th>\n",
              "      <td>0.003295</td>\n",
              "      <td>0.013659</td>\n",
              "      <td>0.003650</td>\n",
              "      <td>NaN</td>\n",
              "    </tr>\n",
              "    <tr>\n",
              "      <th>2021-06-01</th>\n",
              "      <td>-0.003295</td>\n",
              "      <td>0.011561</td>\n",
              "      <td>-0.007313</td>\n",
              "      <td>NaN</td>\n",
              "    </tr>\n",
              "  </tbody>\n",
              "</table>\n",
              "</div>"
            ],
            "text/plain": [
              "            LG electronics     KEPCO  Celltrion  Vidente\n",
              "Date                                                    \n",
              "2021-05-26       -0.009820  0.052798  -0.005530      NaN\n",
              "2021-05-27       -0.016584 -0.007648  -0.005561      NaN\n",
              "2021-05-28        0.013289 -0.023302   0.016590      NaN\n",
              "2021-05-31        0.003295  0.013659   0.003650      NaN\n",
              "2021-06-01       -0.003295  0.011561  -0.007313      NaN"
            ]
          },
          "metadata": {
            "tags": []
          },
          "execution_count": 7
        }
      ]
    },
    {
      "cell_type": "code",
      "metadata": {
        "colab": {
          "base_uri": "https://localhost:8080/"
        },
        "id": "zFyGNLnhsVkN",
        "outputId": "3b3f5d0d-e303-4434-e017-965021981824"
      },
      "source": [
        "# Define weights for allocation\n",
        "w = [0.2, 0.2, 0.3, 0.3]\n",
        "e_r_ind = logreturn.mean()\n",
        "e_r_ind"
      ],
      "execution_count": null,
      "outputs": [
        {
          "output_type": "execute_result",
          "data": {
            "text/plain": [
              "LG electronics    0.000836\n",
              "KEPCO            -0.000409\n",
              "Celltrion         0.000964\n",
              "Vidente                NaN\n",
              "dtype: float64"
            ]
          },
          "metadata": {
            "tags": []
          },
          "execution_count": 8
        }
      ]
    },
    {
      "cell_type": "code",
      "metadata": {
        "colab": {
          "base_uri": "https://localhost:8080/",
          "height": 206
        },
        "id": "AHkyZ-zwsVmb",
        "outputId": "26dc26d7-35d2-48e0-b01f-8c1ba6c115c5"
      },
      "source": [
        "# Log of percentage change\n",
        "cov_matrix = test.pct_change().apply(lambda x: np.log(1+x)).cov()\n",
        "cov_matrix"
      ],
      "execution_count": null,
      "outputs": [
        {
          "output_type": "stream",
          "text": [
            "/usr/local/lib/python3.7/dist-packages/pandas/core/series.py:726: RuntimeWarning: divide by zero encountered in log\n",
            "  result = getattr(ufunc, method)(*inputs, **kwargs)\n"
          ],
          "name": "stderr"
        },
        {
          "output_type": "execute_result",
          "data": {
            "text/html": [
              "<div>\n",
              "<style scoped>\n",
              "    .dataframe tbody tr th:only-of-type {\n",
              "        vertical-align: middle;\n",
              "    }\n",
              "\n",
              "    .dataframe tbody tr th {\n",
              "        vertical-align: top;\n",
              "    }\n",
              "\n",
              "    .dataframe thead th {\n",
              "        text-align: right;\n",
              "    }\n",
              "</style>\n",
              "<table border=\"1\" class=\"dataframe\">\n",
              "  <thead>\n",
              "    <tr style=\"text-align: right;\">\n",
              "      <th></th>\n",
              "      <th>LG electronics</th>\n",
              "      <th>KEPCO</th>\n",
              "      <th>Celltrion</th>\n",
              "      <th>Vidente</th>\n",
              "    </tr>\n",
              "  </thead>\n",
              "  <tbody>\n",
              "    <tr>\n",
              "      <th>LG electronics</th>\n",
              "      <td>0.000584</td>\n",
              "      <td>0.000067</td>\n",
              "      <td>0.000052</td>\n",
              "      <td>-0.000005</td>\n",
              "    </tr>\n",
              "    <tr>\n",
              "      <th>KEPCO</th>\n",
              "      <td>0.000067</td>\n",
              "      <td>0.000319</td>\n",
              "      <td>0.000059</td>\n",
              "      <td>-0.000079</td>\n",
              "    </tr>\n",
              "    <tr>\n",
              "      <th>Celltrion</th>\n",
              "      <td>0.000052</td>\n",
              "      <td>0.000059</td>\n",
              "      <td>0.000900</td>\n",
              "      <td>0.000256</td>\n",
              "    </tr>\n",
              "    <tr>\n",
              "      <th>Vidente</th>\n",
              "      <td>-0.000005</td>\n",
              "      <td>-0.000079</td>\n",
              "      <td>0.000256</td>\n",
              "      <td>0.005790</td>\n",
              "    </tr>\n",
              "  </tbody>\n",
              "</table>\n",
              "</div>"
            ],
            "text/plain": [
              "                LG electronics     KEPCO  Celltrion   Vidente\n",
              "LG electronics        0.000584  0.000067   0.000052 -0.000005\n",
              "KEPCO                 0.000067  0.000319   0.000059 -0.000079\n",
              "Celltrion             0.000052  0.000059   0.000900  0.000256\n",
              "Vidente              -0.000005 -0.000079   0.000256  0.005790"
            ]
          },
          "metadata": {
            "tags": []
          },
          "execution_count": 9
        }
      ]
    },
    {
      "cell_type": "code",
      "metadata": {
        "colab": {
          "base_uri": "https://localhost:8080/",
          "height": 206
        },
        "id": "-8QUv7iQsVo9",
        "outputId": "e2ae34b1-86d7-4ef2-cb70-e9678703c2b5"
      },
      "source": [
        "corr_matrix = test.pct_change().apply(lambda x: np.log(1+x)).corr()\n",
        "corr_matrix"
      ],
      "execution_count": null,
      "outputs": [
        {
          "output_type": "stream",
          "text": [
            "/usr/local/lib/python3.7/dist-packages/pandas/core/series.py:726: RuntimeWarning: divide by zero encountered in log\n",
            "  result = getattr(ufunc, method)(*inputs, **kwargs)\n"
          ],
          "name": "stderr"
        },
        {
          "output_type": "execute_result",
          "data": {
            "text/html": [
              "<div>\n",
              "<style scoped>\n",
              "    .dataframe tbody tr th:only-of-type {\n",
              "        vertical-align: middle;\n",
              "    }\n",
              "\n",
              "    .dataframe tbody tr th {\n",
              "        vertical-align: top;\n",
              "    }\n",
              "\n",
              "    .dataframe thead th {\n",
              "        text-align: right;\n",
              "    }\n",
              "</style>\n",
              "<table border=\"1\" class=\"dataframe\">\n",
              "  <thead>\n",
              "    <tr style=\"text-align: right;\">\n",
              "      <th></th>\n",
              "      <th>LG electronics</th>\n",
              "      <th>KEPCO</th>\n",
              "      <th>Celltrion</th>\n",
              "      <th>Vidente</th>\n",
              "    </tr>\n",
              "  </thead>\n",
              "  <tbody>\n",
              "    <tr>\n",
              "      <th>LG electronics</th>\n",
              "      <td>1.000000</td>\n",
              "      <td>0.154921</td>\n",
              "      <td>0.072164</td>\n",
              "      <td>-0.003318</td>\n",
              "    </tr>\n",
              "    <tr>\n",
              "      <th>KEPCO</th>\n",
              "      <td>0.154921</td>\n",
              "      <td>1.000000</td>\n",
              "      <td>0.109392</td>\n",
              "      <td>-0.071760</td>\n",
              "    </tr>\n",
              "    <tr>\n",
              "      <th>Celltrion</th>\n",
              "      <td>0.072164</td>\n",
              "      <td>0.109392</td>\n",
              "      <td>1.000000</td>\n",
              "      <td>0.116013</td>\n",
              "    </tr>\n",
              "    <tr>\n",
              "      <th>Vidente</th>\n",
              "      <td>-0.003318</td>\n",
              "      <td>-0.071760</td>\n",
              "      <td>0.116013</td>\n",
              "      <td>1.000000</td>\n",
              "    </tr>\n",
              "  </tbody>\n",
              "</table>\n",
              "</div>"
            ],
            "text/plain": [
              "                LG electronics     KEPCO  Celltrion   Vidente\n",
              "LG electronics        1.000000  0.154921   0.072164 -0.003318\n",
              "KEPCO                 0.154921  1.000000   0.109392 -0.071760\n",
              "Celltrion             0.072164  0.109392   1.000000  0.116013\n",
              "Vidente              -0.003318 -0.071760   0.116013  1.000000"
            ]
          },
          "metadata": {
            "tags": []
          },
          "execution_count": 10
        }
      ]
    },
    {
      "cell_type": "code",
      "metadata": {
        "colab": {
          "base_uri": "https://localhost:8080/"
        },
        "id": "WTHb6dUPsVsv",
        "outputId": "c7dc5e3c-d226-4b41-bc00-c71692951845"
      },
      "source": [
        "# Randomly weighted portfolio's variance\n",
        "w = {'\tLG electronics': 0.1, 'KEPCO': 0.2, 'Celltrion': 0.5, 'Vidente': 0.2}\n",
        "port_var = cov_matrix.mul(w, axis=0).mul(w, axis=1).sum().sum()\n",
        "port_var"
      ],
      "execution_count": null,
      "outputs": [
        {
          "output_type": "execute_result",
          "data": {
            "text/plain": [
              "0.0005259934087767557"
            ]
          },
          "metadata": {
            "tags": []
          },
          "execution_count": 11
        }
      ]
    },
    {
      "cell_type": "code",
      "metadata": {
        "id": "kUv-no2w_9Bu",
        "colab": {
          "base_uri": "https://localhost:8080/"
        },
        "outputId": "642bcb59-8966-42b8-89d6-87812fb10ebf"
      },
      "source": [
        "# Yearly returns for individual companies\n",
        "ind_er = test.resample('Y').last().pct_change().mean()\n",
        "ind_er"
      ],
      "execution_count": null,
      "outputs": [
        {
          "output_type": "execute_result",
          "data": {
            "text/plain": [
              "LG electronics    0.368009\n",
              "KEPCO            -0.084803\n",
              "Celltrion         0.352519\n",
              "Vidente           2.157895\n",
              "dtype: float64"
            ]
          },
          "metadata": {
            "tags": []
          },
          "execution_count": 12
        }
      ]
    },
    {
      "cell_type": "code",
      "metadata": {
        "colab": {
          "base_uri": "https://localhost:8080/"
        },
        "id": "JHRfLkIMBGCm",
        "outputId": "da465d1a-4895-474f-e566-63705ee98277"
      },
      "source": [
        "# Portfolio returns\n",
        "w = [0.1, 0.2, 0.5, 0.2]\n",
        "port_er = (w*ind_er).sum()\n",
        "port_er"
      ],
      "execution_count": null,
      "outputs": [
        {
          "output_type": "execute_result",
          "data": {
            "text/plain": [
              "0.6276788627389653"
            ]
          },
          "metadata": {
            "tags": []
          },
          "execution_count": 13
        }
      ]
    },
    {
      "cell_type": "code",
      "metadata": {
        "colab": {
          "base_uri": "https://localhost:8080/"
        },
        "id": "WTowlsnz0izt",
        "outputId": "d54c9f42-156b-477c-97a2-fd7348f0ade0"
      },
      "source": [
        "# Volatility is given by the annual standard deviation. We multiply by 1974 because there are 1974 trading days.\n",
        "date_to_start = datetime.strptime(\"20160104\", \"%Y%m%d\")\n",
        "date_to_end = datetime.strptime(\"20210531\", \"%Y%m%d\")\n",
        "print(date_to_end - date_to_start)\n",
        "\n",
        "ann_sd = test.pct_change().apply(lambda x: np.log(1+x)).std().apply(lambda x: x*np.sqrt(1974))\n",
        "ann_sd"
      ],
      "execution_count": null,
      "outputs": [
        {
          "output_type": "stream",
          "text": [
            "1974 days, 0:00:00\n"
          ],
          "name": "stdout"
        },
        {
          "output_type": "stream",
          "text": [
            "/usr/local/lib/python3.7/dist-packages/pandas/core/series.py:726: RuntimeWarning: divide by zero encountered in log\n",
            "  result = getattr(ufunc, method)(*inputs, **kwargs)\n"
          ],
          "name": "stderr"
        },
        {
          "output_type": "execute_result",
          "data": {
            "text/plain": [
              "LG electronics    1.073894\n",
              "KEPCO             0.793034\n",
              "Celltrion         1.333110\n",
              "Vidente                NaN\n",
              "dtype: float64"
            ]
          },
          "metadata": {
            "tags": []
          },
          "execution_count": 14
        }
      ]
    },
    {
      "cell_type": "code",
      "metadata": {
        "colab": {
          "base_uri": "https://localhost:8080/",
          "height": 172
        },
        "id": "kzPX20xO0qL_",
        "outputId": "0d573787-9f40-4298-8d40-26f77080f24e"
      },
      "source": [
        "assets = pd.concat([ind_er, ann_sd], axis=1) # Creating a table for visualising returns and volatility of assets\n",
        "assets.columns = ['Returns', 'Volatility']\n",
        "assets"
      ],
      "execution_count": null,
      "outputs": [
        {
          "output_type": "execute_result",
          "data": {
            "text/html": [
              "<div>\n",
              "<style scoped>\n",
              "    .dataframe tbody tr th:only-of-type {\n",
              "        vertical-align: middle;\n",
              "    }\n",
              "\n",
              "    .dataframe tbody tr th {\n",
              "        vertical-align: top;\n",
              "    }\n",
              "\n",
              "    .dataframe thead th {\n",
              "        text-align: right;\n",
              "    }\n",
              "</style>\n",
              "<table border=\"1\" class=\"dataframe\">\n",
              "  <thead>\n",
              "    <tr style=\"text-align: right;\">\n",
              "      <th></th>\n",
              "      <th>Returns</th>\n",
              "      <th>Volatility</th>\n",
              "    </tr>\n",
              "  </thead>\n",
              "  <tbody>\n",
              "    <tr>\n",
              "      <th>LG electronics</th>\n",
              "      <td>0.368009</td>\n",
              "      <td>1.073894</td>\n",
              "    </tr>\n",
              "    <tr>\n",
              "      <th>KEPCO</th>\n",
              "      <td>-0.084803</td>\n",
              "      <td>0.793034</td>\n",
              "    </tr>\n",
              "    <tr>\n",
              "      <th>Celltrion</th>\n",
              "      <td>0.352519</td>\n",
              "      <td>1.333110</td>\n",
              "    </tr>\n",
              "    <tr>\n",
              "      <th>Vidente</th>\n",
              "      <td>2.157895</td>\n",
              "      <td>NaN</td>\n",
              "    </tr>\n",
              "  </tbody>\n",
              "</table>\n",
              "</div>"
            ],
            "text/plain": [
              "                 Returns  Volatility\n",
              "LG electronics  0.368009    1.073894\n",
              "KEPCO          -0.084803    0.793034\n",
              "Celltrion       0.352519    1.333110\n",
              "Vidente         2.157895         NaN"
            ]
          },
          "metadata": {
            "tags": []
          },
          "execution_count": 15
        }
      ]
    },
    {
      "cell_type": "code",
      "metadata": {
        "id": "He3RRhC3BRRa"
      },
      "source": [
        "# We run this loop a 1000 times.\n",
        "p_ret = [] # Define an empty array for portfolio returns\n",
        "p_vol = [] # Define an empty array for portfolio volatility\n",
        "p_weights = [] # Define an empty array for asset weights\n",
        "\n",
        "num_assets = len(test.columns)\n",
        "num_portfolios = 10000\n",
        "for portfolio in range(num_portfolios):\n",
        "    weights = np.random.random(num_assets)\n",
        "    weights = weights/np.sum(weights)\n",
        "    p_weights.append(weights)\n",
        "    returns = np.dot(weights, ind_er) # Returns are the product of individual expected returns of asset and its \n",
        "                                      # weights \n",
        "\n",
        "\n",
        "    p_ret.append(returns)\n",
        "    var = cov_matrix.mul(weights, axis=0).mul(weights, axis=1).sum().sum()# Portfolio Variance\n",
        "    sd = np.sqrt(var) # Daily standard deviation\n",
        "    ann_sd = sd*np.sqrt(250) # Annual standard deviation = volatility\n",
        "    p_vol.append(ann_sd)"
      ],
      "execution_count": null,
      "outputs": []
    },
    {
      "cell_type": "code",
      "metadata": {
        "colab": {
          "base_uri": "https://localhost:8080/",
          "height": 202
        },
        "id": "GNzga2DHBWgd",
        "outputId": "4eca2156-3843-43e9-920a-59152cbdc8b0"
      },
      "source": [
        "data = {'Returns':p_ret, 'Volatility':p_vol}\n",
        "\n",
        "for counter, symbol in enumerate(test.columns.tolist()):\n",
        "    #print(counter, symbol)\n",
        "    data[symbol+' weight'] = [w[counter] for w in p_weights]\n",
        "portfolios  = pd.DataFrame(data)\n",
        "portfolios.head() # Dataframe of the 10000 portfolios created"
      ],
      "execution_count": null,
      "outputs": [
        {
          "output_type": "execute_result",
          "data": {
            "text/html": [
              "<div>\n",
              "<style scoped>\n",
              "    .dataframe tbody tr th:only-of-type {\n",
              "        vertical-align: middle;\n",
              "    }\n",
              "\n",
              "    .dataframe tbody tr th {\n",
              "        vertical-align: top;\n",
              "    }\n",
              "\n",
              "    .dataframe thead th {\n",
              "        text-align: right;\n",
              "    }\n",
              "</style>\n",
              "<table border=\"1\" class=\"dataframe\">\n",
              "  <thead>\n",
              "    <tr style=\"text-align: right;\">\n",
              "      <th></th>\n",
              "      <th>Returns</th>\n",
              "      <th>Volatility</th>\n",
              "      <th>LG electronics weight</th>\n",
              "      <th>KEPCO weight</th>\n",
              "      <th>Celltrion weight</th>\n",
              "      <th>Vidente weight</th>\n",
              "    </tr>\n",
              "  </thead>\n",
              "  <tbody>\n",
              "    <tr>\n",
              "      <th>0</th>\n",
              "      <td>0.639427</td>\n",
              "      <td>0.346091</td>\n",
              "      <td>0.183469</td>\n",
              "      <td>0.348072</td>\n",
              "      <td>0.226800</td>\n",
              "      <td>0.241659</td>\n",
              "    </tr>\n",
              "    <tr>\n",
              "      <th>1</th>\n",
              "      <td>1.012296</td>\n",
              "      <td>0.535643</td>\n",
              "      <td>0.115311</td>\n",
              "      <td>0.238089</td>\n",
              "      <td>0.224465</td>\n",
              "      <td>0.422135</td>\n",
              "    </tr>\n",
              "    <tr>\n",
              "      <th>2</th>\n",
              "      <td>0.527289</td>\n",
              "      <td>0.344040</td>\n",
              "      <td>0.000613</td>\n",
              "      <td>0.366168</td>\n",
              "      <td>0.447721</td>\n",
              "      <td>0.185498</td>\n",
              "    </tr>\n",
              "    <tr>\n",
              "      <th>3</th>\n",
              "      <td>0.577707</td>\n",
              "      <td>0.308201</td>\n",
              "      <td>0.585666</td>\n",
              "      <td>0.081662</td>\n",
              "      <td>0.193183</td>\n",
              "      <td>0.139488</td>\n",
              "    </tr>\n",
              "    <tr>\n",
              "      <th>4</th>\n",
              "      <td>0.780408</td>\n",
              "      <td>0.397897</td>\n",
              "      <td>0.262767</td>\n",
              "      <td>0.246136</td>\n",
              "      <td>0.196721</td>\n",
              "      <td>0.294376</td>\n",
              "    </tr>\n",
              "  </tbody>\n",
              "</table>\n",
              "</div>"
            ],
            "text/plain": [
              "    Returns  Volatility  ...  Celltrion weight  Vidente weight\n",
              "0  0.639427    0.346091  ...          0.226800        0.241659\n",
              "1  1.012296    0.535643  ...          0.224465        0.422135\n",
              "2  0.527289    0.344040  ...          0.447721        0.185498\n",
              "3  0.577707    0.308201  ...          0.193183        0.139488\n",
              "4  0.780408    0.397897  ...          0.196721        0.294376\n",
              "\n",
              "[5 rows x 6 columns]"
            ]
          },
          "metadata": {
            "tags": []
          },
          "execution_count": 17
        }
      ]
    },
    {
      "cell_type": "code",
      "metadata": {
        "colab": {
          "base_uri": "https://localhost:8080/",
          "height": 623
        },
        "id": "IrP68riGBWjQ",
        "outputId": "7add3e1c-2a43-48a3-cea9-139e57b84868"
      },
      "source": [
        "# Plot efficient frontier\n",
        "portfolios.plot.scatter(x='Volatility', y='Returns', marker='o', s=10, alpha=0.3, grid=True, figsize=[10,10])"
      ],
      "execution_count": null,
      "outputs": [
        {
          "output_type": "execute_result",
          "data": {
            "text/plain": [
              "<matplotlib.axes._subplots.AxesSubplot at 0x7fdf14dcfc50>"
            ]
          },
          "metadata": {
            "tags": []
          },
          "execution_count": 18
        },
        {
          "output_type": "display_data",
          "data": {
            "image/png": "[encoded data removed]",
            "text/plain": [
              "<Figure size 720x720 with 1 Axes>"
            ]
          },
          "metadata": {
            "tags": [],
            "needs_background": "light"
          }
        }
      ]
    },
    {
      "cell_type": "markdown",
      "metadata": {
        "id": "dsJfrtfphLLQ"
      },
      "source": [
        "#Find same expected return of LG electronics & efficient frontier"
      ]
    },
    {
      "cell_type": "code",
      "metadata": {
        "colab": {
          "base_uri": "https://localhost:8080/"
        },
        "id": "dhpF2f0hVABp",
        "outputId": "f69f5f6a-71ad-4954-d0f8-c5659f59d945"
      },
      "source": [
        "# LG electronics expected return\n",
        "ex_return_LG = ind_er[0]\n",
        "ex_return_LG"
      ],
      "execution_count": null,
      "outputs": [
        {
          "output_type": "execute_result",
          "data": {
            "text/plain": [
              "0.3680094371344017"
            ]
          },
          "metadata": {
            "tags": []
          },
          "execution_count": 31
        }
      ]
    },
    {
      "cell_type": "code",
      "metadata": {
        "id": "13WUrWKY-WIQ",
        "colab": {
          "base_uri": "https://localhost:8080/",
          "height": 609
        },
        "outputId": "6230fa20-5b94-472f-cc2f-02a4c2f7edf8"
      },
      "source": [
        "# Plotting optimal portfolio\n",
        "plt.subplots(figsize=(10, 10))\n",
        "plt.scatter(portfolios['Volatility'], portfolios['Returns'],marker='o', s=10, alpha=0.3)\n",
        "plt.axhline(y=ex_return_LG, color='r', linewidth=1)\n",
        "plt.text(0.5, ex_return_LG + 0.05, \"Same expected return of LG electronics & efficient portfolio\", color = 'red')\n",
        "\n"
      ],
      "execution_count": null,
      "outputs": [
        {
          "output_type": "execute_result",
          "data": {
            "text/plain": [
              "Text(0.5, 0.4180094371344017, 'Same expected return of LG electronics & efficient portfolio')"
            ]
          },
          "metadata": {
            "tags": []
          },
          "execution_count": 51
        },
        {
          "output_type": "display_data",
          "data": {
            "image/png": "[encoded data removed]",
            "text/plain": [
              "<Figure size 720x720 with 1 Axes>"
            ]
          },
          "metadata": {
            "tags": [],
            "needs_background": "light"
          }
        }
      ]
    },
    {
      "cell_type": "code",
      "metadata": {
        "colab": {
          "base_uri": "https://localhost:8080/"
        },
        "id": "GsBtSNzUVAEu",
        "outputId": "d4bebbe6-c3b5-46ec-b3ef-692a2e1f9c64"
      },
      "source": [
        "# Round the expected return to three decimal places.\n",
        "r_p_ret = [i.round(3) for i in p_ret]\n",
        "point = np.where(r_p_ret == ex_return_LG.round(3))\n",
        "point"
      ],
      "execution_count": null,
      "outputs": [
        {
          "output_type": "execute_result",
          "data": {
            "text/plain": [
              "(array([ 849, 3190, 4665, 5670, 7528, 8561, 8585, 9635, 9789, 9964]),)"
            ]
          },
          "metadata": {
            "tags": []
          },
          "execution_count": 88
        }
      ]
    },
    {
      "cell_type": "code",
      "metadata": {
        "colab": {
          "base_uri": "https://localhost:8080/",
          "height": 356
        },
        "id": "_kLOT3xpfzvA",
        "outputId": "e56bdf51-2047-402b-fa29-c4a13cbb2a3a"
      },
      "source": [
        "# same expected return of LG electronics & efficient frontier\n",
        "portfolios.iloc[point[0],]"
      ],
      "execution_count": null,
      "outputs": [
        {
          "output_type": "execute_result",
          "data": {
            "text/html": [
              "<div>\n",
              "<style scoped>\n",
              "    .dataframe tbody tr th:only-of-type {\n",
              "        vertical-align: middle;\n",
              "    }\n",
              "\n",
              "    .dataframe tbody tr th {\n",
              "        vertical-align: top;\n",
              "    }\n",
              "\n",
              "    .dataframe thead th {\n",
              "        text-align: right;\n",
              "    }\n",
              "</style>\n",
              "<table border=\"1\" class=\"dataframe\">\n",
              "  <thead>\n",
              "    <tr style=\"text-align: right;\">\n",
              "      <th></th>\n",
              "      <th>Returns</th>\n",
              "      <th>Volatility</th>\n",
              "      <th>LG electronics weight</th>\n",
              "      <th>KEPCO weight</th>\n",
              "      <th>Celltrion weight</th>\n",
              "      <th>Vidente weight</th>\n",
              "    </tr>\n",
              "  </thead>\n",
              "  <tbody>\n",
              "    <tr>\n",
              "      <th>849</th>\n",
              "      <td>0.368446</td>\n",
              "      <td>0.259942</td>\n",
              "      <td>0.496858</td>\n",
              "      <td>0.188373</td>\n",
              "      <td>0.264581</td>\n",
              "      <td>0.050189</td>\n",
              "    </tr>\n",
              "    <tr>\n",
              "      <th>3190</th>\n",
              "      <td>0.367808</td>\n",
              "      <td>0.304516</td>\n",
              "      <td>0.149796</td>\n",
              "      <td>0.236303</td>\n",
              "      <td>0.549477</td>\n",
              "      <td>0.064424</td>\n",
              "    </tr>\n",
              "    <tr>\n",
              "      <th>4665</th>\n",
              "      <td>0.368318</td>\n",
              "      <td>0.417141</td>\n",
              "      <td>0.091026</td>\n",
              "      <td>0.030227</td>\n",
              "      <td>0.863455</td>\n",
              "      <td>0.015292</td>\n",
              "    </tr>\n",
              "    <tr>\n",
              "      <th>5670</th>\n",
              "      <td>0.368088</td>\n",
              "      <td>0.257040</td>\n",
              "      <td>0.156165</td>\n",
              "      <td>0.440528</td>\n",
              "      <td>0.289313</td>\n",
              "      <td>0.113994</td>\n",
              "    </tr>\n",
              "    <tr>\n",
              "      <th>7528</th>\n",
              "      <td>0.367572</td>\n",
              "      <td>0.294675</td>\n",
              "      <td>0.483981</td>\n",
              "      <td>0.057385</td>\n",
              "      <td>0.440549</td>\n",
              "      <td>0.018086</td>\n",
              "    </tr>\n",
              "    <tr>\n",
              "      <th>8561</th>\n",
              "      <td>0.368309</td>\n",
              "      <td>0.252282</td>\n",
              "      <td>0.298107</td>\n",
              "      <td>0.295505</td>\n",
              "      <td>0.328619</td>\n",
              "      <td>0.077769</td>\n",
              "    </tr>\n",
              "    <tr>\n",
              "      <th>8585</th>\n",
              "      <td>0.368265</td>\n",
              "      <td>0.242809</td>\n",
              "      <td>0.314390</td>\n",
              "      <td>0.424164</td>\n",
              "      <td>0.152676</td>\n",
              "      <td>0.108771</td>\n",
              "    </tr>\n",
              "    <tr>\n",
              "      <th>9635</th>\n",
              "      <td>0.368423</td>\n",
              "      <td>0.295979</td>\n",
              "      <td>0.099945</td>\n",
              "      <td>0.313800</td>\n",
              "      <td>0.502291</td>\n",
              "      <td>0.083964</td>\n",
              "    </tr>\n",
              "    <tr>\n",
              "      <th>9789</th>\n",
              "      <td>0.368386</td>\n",
              "      <td>0.244624</td>\n",
              "      <td>0.262762</td>\n",
              "      <td>0.443936</td>\n",
              "      <td>0.179231</td>\n",
              "      <td>0.114070</td>\n",
              "    </tr>\n",
              "    <tr>\n",
              "      <th>9964</th>\n",
              "      <td>0.368145</td>\n",
              "      <td>0.273562</td>\n",
              "      <td>0.169551</td>\n",
              "      <td>0.319245</td>\n",
              "      <td>0.426672</td>\n",
              "      <td>0.084532</td>\n",
              "    </tr>\n",
              "  </tbody>\n",
              "</table>\n",
              "</div>"
            ],
            "text/plain": [
              "       Returns  Volatility  ...  Celltrion weight  Vidente weight\n",
              "849   0.368446    0.259942  ...          0.264581        0.050189\n",
              "3190  0.367808    0.304516  ...          0.549477        0.064424\n",
              "4665  0.368318    0.417141  ...          0.863455        0.015292\n",
              "5670  0.368088    0.257040  ...          0.289313        0.113994\n",
              "7528  0.367572    0.294675  ...          0.440549        0.018086\n",
              "8561  0.368309    0.252282  ...          0.328619        0.077769\n",
              "8585  0.368265    0.242809  ...          0.152676        0.108771\n",
              "9635  0.368423    0.295979  ...          0.502291        0.083964\n",
              "9789  0.368386    0.244624  ...          0.179231        0.114070\n",
              "9964  0.368145    0.273562  ...          0.426672        0.084532\n",
              "\n",
              "[10 rows x 6 columns]"
            ]
          },
          "metadata": {
            "tags": []
          },
          "execution_count": 89
        }
      ]
    },
    {
      "cell_type": "code",
      "metadata": {
        "colab": {
          "base_uri": "https://localhost:8080/"
        },
        "id": "274qL5xpg1Mf",
        "outputId": "86a9f44b-0f51-4a36-9e0b-eef2e4f64c8c"
      },
      "source": [
        "ex_return_LG"
      ],
      "execution_count": null,
      "outputs": [
        {
          "output_type": "execute_result",
          "data": {
            "text/plain": [
              "0.3680094371344017"
            ]
          },
          "metadata": {
            "tags": []
          },
          "execution_count": 90
        }
      ]
    },
    {
      "cell_type": "markdown",
      "metadata": {
        "id": "lZOLM8JHil6F"
      },
      "source": [
        "#Compute VaR"
      ]
    },
    {
      "cell_type": "code",
      "metadata": {
        "id": "5wwGMCgxD8_G",
        "colab": {
          "base_uri": "https://localhost:8080/"
        },
        "outputId": "85f7887d-83bc-4cf0-8260-aa5bde3fbb36"
      },
      "source": [
        "# Select our confidence interval (I'll choose 95% here)\n",
        "conf_level1 = 0.05\n",
        "#Finally, we can calculate the VaR at our confidence interval\n",
        "port_VaR = p_ret + [i*norm.ppf(conf_level1).round(3) for i in p_vol]\n",
        "port_VaR[1:5]"
      ],
      "execution_count": null,
      "outputs": [
        {
          "output_type": "execute_result",
          "data": {
            "text/plain": [
              "[0.8480459818102299,\n",
              " 0.31631969449346486,\n",
              " 0.930522636282629,\n",
              " 0.9877719433869201]"
            ]
          },
          "metadata": {
            "tags": []
          },
          "execution_count": 106
        }
      ]
    },
    {
      "cell_type": "code",
      "metadata": {
        "id": "UNJIvG0TSVvs"
      },
      "source": [
        ""
      ],
      "execution_count": null,
      "outputs": []
    },
    {
      "cell_type": "code",
      "metadata": {
        "id": "EMWvtzr7SV00"
      },
      "source": [
        ""
      ],
      "execution_count": null,
      "outputs": []
    },
    {
      "cell_type": "markdown",
      "metadata": {
        "id": "k4gqEGDitwO7"
      },
      "source": [
        "#2번"
      ]
    },
    {
      "cell_type": "code",
      "metadata": {
        "colab": {
          "base_uri": "https://localhost:8080/"
        },
        "id": "0zQQum0QSV30",
        "outputId": "cae62329-dacd-4ed3-c08c-7522d0833106"
      },
      "source": [
        "sharpratio = (portfolios[\"Returns\"] - 0.02) / portfolios[\"Volatility\"]\n",
        "np.where(sharpratio == sharpratio.max())"
      ],
      "execution_count": null,
      "outputs": [
        {
          "output_type": "execute_result",
          "data": {
            "text/plain": [
              "(array([794]),)"
            ]
          },
          "metadata": {
            "tags": []
          },
          "execution_count": 100
        }
      ]
    },
    {
      "cell_type": "code",
      "metadata": {
        "colab": {
          "base_uri": "https://localhost:8080/"
        },
        "id": "4algZw4SSV89",
        "outputId": "fc19593e-8093-4cef-ba04-02ab8970b3f3"
      },
      "source": [
        "sharpratio[794]"
      ],
      "execution_count": null,
      "outputs": [
        {
          "output_type": "execute_result",
          "data": {
            "text/plain": [
              "2.0455578518093156"
            ]
          },
          "metadata": {
            "tags": []
          },
          "execution_count": 102
        }
      ]
    },
    {
      "cell_type": "code",
      "metadata": {
        "colab": {
          "base_uri": "https://localhost:8080/"
        },
        "id": "epxEC7u5tMuL",
        "outputId": "8cbbdb46-9f4d-48a7-ee82-ceaa9699ac1a"
      },
      "source": [
        "#Rm : market portfolio = efficient portfolio\n",
        "Rm = portfolios.iloc[794,][0]\n",
        "Rm"
      ],
      "execution_count": null,
      "outputs": [
        {
          "output_type": "execute_result",
          "data": {
            "text/plain": [
              "0.8979952785312846"
            ]
          },
          "metadata": {
            "tags": []
          },
          "execution_count": 108
        }
      ]
    }
  ]
}